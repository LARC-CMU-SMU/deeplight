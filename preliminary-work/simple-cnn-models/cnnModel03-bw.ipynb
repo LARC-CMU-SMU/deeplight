{
 "cells": [
  {
   "cell_type": "code",
   "execution_count": null,
   "metadata": {},
   "outputs": [],
   "source": [
    "'''\n",
    "gihanchanaka@gmail.com\n",
    "07-03-2019\n",
    "    1)This is to learn from BW videos\n",
    "'''"
   ]
  },
  {
   "cell_type": "code",
   "execution_count": 2,
   "metadata": {},
   "outputs": [],
   "source": [
    "DEBUG=False\n",
    "PC=False"
   ]
  },
  {
   "cell_type": "code",
   "execution_count": 3,
   "metadata": {},
   "outputs": [],
   "source": [
    "FILE_NAME='./video/ran'\n",
    "FILE_NAME_VIDEO=FILE_NAME+'.avi'\n",
    "FILE_NAME_CSV=FILE_NAME+'.csv'"
   ]
  },
  {
   "cell_type": "code",
   "execution_count": 4,
   "metadata": {},
   "outputs": [],
   "source": [
    "import keras\n",
    "from keras.models import Sequential\n",
    "from keras.layers import Conv2D,Flatten,Dense,Dropout\n",
    "from tensorflow.contrib.learn.python.learn.estimators._sklearn import train_test_split\n",
    "import keras.backend as K\n",
    "\n",
    "import numpy as np\n",
    "import cv2\n",
    "import sys\n",
    "import os\n",
    "import pandas as pd\n"
   ]
  },
  {
   "cell_type": "code",
   "execution_count": 5,
   "metadata": {},
   "outputs": [
    {
     "data": {
      "text/plain": [
       "<keras.callbacks.TensorBoard at 0x7ff7ec1fe9b0>"
      ]
     },
     "execution_count": 5,
     "metadata": {},
     "output_type": "execute_result"
    }
   ],
   "source": [
    "keras.callbacks.TensorBoard(log_dir='./logs/bw/', histogram_freq=0, batch_size=32, write_graph=True, write_grads=False, write_images=False, embeddings_freq=0, embeddings_layer_names=None, embeddings_metadata=None, embeddings_data=None,)"
   ]
  },
  {
   "cell_type": "code",
   "execution_count": 6,
   "metadata": {},
   "outputs": [],
   "source": [
    "def cnn(inptuDim,outputDim):\n",
    "    model=Sequential()\n",
    "    '''model.add(Conv2D(10, kernel_size=(10,10), activation='relu',strides=(10,10)))\n",
    "    model.add(Conv2D(5, kernel_size=(2,2), activation='relu',strides=(2,2)))\n",
    "    model.add(Conv2D(5, kernel_size=(2,2), activation='relu',strides=(2,2)))\n",
    "    model.add(Conv2D(5, kernel_size=(2,2), activation='relu',strides=(2,2)))\n",
    "    model.add(Conv2D(5, kernel_size=(2,2), activation='relu',strides=(2,2)))\n",
    "    model.add(Conv2D(5, kernel_size=(2,2), activation='relu',strides=(2,2)))'''\n",
    "    model.add(Flatten())\n",
    "    #model.add(Dense(500,activation='sigmoid'))\n",
    "    #model.add(Dropout(0.5))\n",
    "    #model.add(Dense(81,activation='relu'))\n",
    "    model.add(Dense((CELLS_PER_FRAME),activation='sigmoid'))\n",
    "\n",
    "    return model\n"
   ]
  },
  {
   "cell_type": "code",
   "execution_count": null,
   "metadata": {},
   "outputs": [],
   "source": []
  },
  {
   "cell_type": "code",
   "execution_count": 7,
   "metadata": {},
   "outputs": [],
   "source": [
    "NO_FRAMES=10000\n",
    "if PC: NO_FRAMES=100\n",
    "FRAMES_TO_SKIP=0\n",
    "'''NO_OF_FRAMES=int(sys.argv[1])\n",
    "'''\n",
    "FRAME_HEIGHT=108\n",
    "FRAME_WIDTH=192\n",
    "COLOR_CHANNELS=3\n",
    "\n",
    "CELLS_PER_FRAME=4\n",
    "\n",
    "EPOCHS=20\n",
    "BATCH_SIZE=64\n",
    "CUDA1=0\n",
    "CUDA2=1\n",
    "\n",
    "os.environ[\"CUDA_VISIBLE_DEVICES\"]=\"{},{}\".format(CUDA1,CUDA2)"
   ]
  },
  {
   "cell_type": "code",
   "execution_count": 8,
   "metadata": {},
   "outputs": [],
   "source": [
    "def makeX():\n",
    "    cap = cv2.VideoCapture(FILE_NAME_VIDEO)\n",
    "    if (cap.isOpened()== False): \n",
    "      print(\"Error opening video stream or file\")\n",
    "    ret,frame=cap.read()\n",
    "    '''if (len(sys.argv)>1):\n",
    "        NO_OF_FRAMES=int(sys.argv[1])'''\n",
    "\n",
    "    X=np.zeros((NO_FRAMES,FRAME_HEIGHT,FRAME_WIDTH,COLOR_CHANNELS),dtype=np.float32)\n",
    "        \n",
    "    for f in range(NO_FRAMES):\n",
    "        X[f,:,:,:]=frame\n",
    "        ret,frame=cap.read()\n",
    "\n",
    "        '''if f%1 == 0:\n",
    "            print(len(X[f,:,4,1]))'''\n",
    "    \n",
    "    return X\n",
    "#maxeX(cap)"
   ]
  },
  {
   "cell_type": "code",
   "execution_count": 9,
   "metadata": {},
   "outputs": [],
   "source": [
    "def makeY():\n",
    "    df=pd.read_csv(FILE_NAME_CSV, sep=',',header=None)\n",
    "    df=np.array(df)\n",
    "    return df[:NO_FRAMES,:]\n",
    "    '''df=df[:NO_OF_FRAMES,1]\n",
    "    \n",
    "    Y=np.zeros((NO_OF_FRAMES,CELLS_PER_FRAME),dtype=np.int32)\n",
    "    100\n",
    "    for f in range(NO_OF_FRAMES):\n",
    "        if DEBUG: print(\"DEBUG: df=\",df[f])\n",
    "        for c in range(CELLS_PER_FRAME-1,-1,-1):\n",
    "            Y[f,c]=int(df[f]/(2**c))\n",
    "            if Y[f,c]>0:100\n",
    "                df[f]=df[f]-2**c\n",
    "        \n",
    "        if DEBUG: print(\"DEBUG: Y=\",Y[f,:])\n",
    "    \n",
    "    return Y'''\n",
    "    "
   ]
  },
  {
   "cell_type": "code",
   "execution_count": 10,
   "metadata": {},
   "outputs": [
    {
     "ename": "ParserError",
     "evalue": "Error tokenizing data. C error: Expected 1 fields in line 2, saw 2\n",
     "output_type": "error",
     "traceback": [
      "\u001b[0;31m---------------------------------------------------------------------------\u001b[0m",
      "\u001b[0;31mParserError\u001b[0m                               Traceback (most recent call last)",
      "\u001b[0;32m<ipython-input-10-96e96ba67c53>\u001b[0m in \u001b[0;36m<module>\u001b[0;34m\u001b[0m\n\u001b[1;32m      1\u001b[0m \u001b[0mX\u001b[0m\u001b[0;34m=\u001b[0m\u001b[0mmakeX\u001b[0m\u001b[0;34m(\u001b[0m\u001b[0;34m)\u001b[0m\u001b[0;34m\u001b[0m\u001b[0m\n\u001b[0;32m----> 2\u001b[0;31m \u001b[0mY\u001b[0m\u001b[0;34m=\u001b[0m\u001b[0mmakeY\u001b[0m\u001b[0;34m(\u001b[0m\u001b[0;34m)\u001b[0m\u001b[0;34m\u001b[0m\u001b[0m\n\u001b[0m\u001b[1;32m      3\u001b[0m \u001b[0mX\u001b[0m\u001b[0;34m=\u001b[0m\u001b[0mX\u001b[0m\u001b[0;34m[\u001b[0m\u001b[0mFRAMES_TO_SKIP\u001b[0m\u001b[0;34m:\u001b[0m\u001b[0;34m]\u001b[0m\u001b[0;34m\u001b[0m\u001b[0m\n\u001b[1;32m      4\u001b[0m \u001b[0mY\u001b[0m\u001b[0;34m=\u001b[0m\u001b[0mY\u001b[0m\u001b[0;34m[\u001b[0m\u001b[0mFRAMES_TO_SKIP\u001b[0m\u001b[0;34m:\u001b[0m\u001b[0;34m]\u001b[0m\u001b[0;34m\u001b[0m\u001b[0m\n\u001b[1;32m      5\u001b[0m \u001b[0;34m\u001b[0m\u001b[0m\n",
      "\u001b[0;32m<ipython-input-9-4709f477559a>\u001b[0m in \u001b[0;36mmakeY\u001b[0;34m()\u001b[0m\n\u001b[1;32m      1\u001b[0m \u001b[0;32mdef\u001b[0m \u001b[0mmakeY\u001b[0m\u001b[0;34m(\u001b[0m\u001b[0;34m)\u001b[0m\u001b[0;34m:\u001b[0m\u001b[0;34m\u001b[0m\u001b[0m\n\u001b[0;32m----> 2\u001b[0;31m     \u001b[0mdf\u001b[0m\u001b[0;34m=\u001b[0m\u001b[0mpd\u001b[0m\u001b[0;34m.\u001b[0m\u001b[0mread_csv\u001b[0m\u001b[0;34m(\u001b[0m\u001b[0mFILE_NAME_CSV\u001b[0m\u001b[0;34m,\u001b[0m \u001b[0msep\u001b[0m\u001b[0;34m=\u001b[0m\u001b[0;34m','\u001b[0m\u001b[0;34m,\u001b[0m\u001b[0mheader\u001b[0m\u001b[0;34m=\u001b[0m\u001b[0;32mNone\u001b[0m\u001b[0;34m)\u001b[0m\u001b[0;34m\u001b[0m\u001b[0m\n\u001b[0m\u001b[1;32m      3\u001b[0m     \u001b[0mdf\u001b[0m\u001b[0;34m=\u001b[0m\u001b[0mnp\u001b[0m\u001b[0;34m.\u001b[0m\u001b[0marray\u001b[0m\u001b[0;34m(\u001b[0m\u001b[0mdf\u001b[0m\u001b[0;34m)\u001b[0m\u001b[0;34m\u001b[0m\u001b[0m\n\u001b[1;32m      4\u001b[0m     \u001b[0;32mreturn\u001b[0m \u001b[0mdf\u001b[0m\u001b[0;34m[\u001b[0m\u001b[0;34m:\u001b[0m\u001b[0mNO_FRAMES\u001b[0m\u001b[0;34m,\u001b[0m\u001b[0;34m:\u001b[0m\u001b[0;34m]\u001b[0m\u001b[0;34m\u001b[0m\u001b[0m\n\u001b[1;32m      5\u001b[0m     '''df=df[:NO_OF_FRAMES,1]\n",
      "\u001b[0;32m~/anaconda3/envs/vlc2/lib/python3.5/site-packages/pandas/io/parsers.py\u001b[0m in \u001b[0;36mparser_f\u001b[0;34m(filepath_or_buffer, sep, delimiter, header, names, index_col, usecols, squeeze, prefix, mangle_dupe_cols, dtype, engine, converters, true_values, false_values, skipinitialspace, skiprows, skipfooter, nrows, na_values, keep_default_na, na_filter, verbose, skip_blank_lines, parse_dates, infer_datetime_format, keep_date_col, date_parser, dayfirst, iterator, chunksize, compression, thousands, decimal, lineterminator, quotechar, quoting, doublequote, escapechar, comment, encoding, dialect, tupleize_cols, error_bad_lines, warn_bad_lines, delim_whitespace, low_memory, memory_map, float_precision)\u001b[0m\n\u001b[1;32m    700\u001b[0m                     skip_blank_lines=skip_blank_lines)\n\u001b[1;32m    701\u001b[0m \u001b[0;34m\u001b[0m\u001b[0m\n\u001b[0;32m--> 702\u001b[0;31m         \u001b[0;32mreturn\u001b[0m \u001b[0m_read\u001b[0m\u001b[0;34m(\u001b[0m\u001b[0mfilepath_or_buffer\u001b[0m\u001b[0;34m,\u001b[0m \u001b[0mkwds\u001b[0m\u001b[0;34m)\u001b[0m\u001b[0;34m\u001b[0m\u001b[0m\n\u001b[0m\u001b[1;32m    703\u001b[0m \u001b[0;34m\u001b[0m\u001b[0m\n\u001b[1;32m    704\u001b[0m     \u001b[0mparser_f\u001b[0m\u001b[0;34m.\u001b[0m\u001b[0m__name__\u001b[0m \u001b[0;34m=\u001b[0m \u001b[0mname\u001b[0m\u001b[0;34m\u001b[0m\u001b[0m\n",
      "\u001b[0;32m~/anaconda3/envs/vlc2/lib/python3.5/site-packages/pandas/io/parsers.py\u001b[0m in \u001b[0;36m_read\u001b[0;34m(filepath_or_buffer, kwds)\u001b[0m\n\u001b[1;32m    433\u001b[0m \u001b[0;34m\u001b[0m\u001b[0m\n\u001b[1;32m    434\u001b[0m     \u001b[0;32mtry\u001b[0m\u001b[0;34m:\u001b[0m\u001b[0;34m\u001b[0m\u001b[0m\n\u001b[0;32m--> 435\u001b[0;31m         \u001b[0mdata\u001b[0m \u001b[0;34m=\u001b[0m \u001b[0mparser\u001b[0m\u001b[0;34m.\u001b[0m\u001b[0mread\u001b[0m\u001b[0;34m(\u001b[0m\u001b[0mnrows\u001b[0m\u001b[0;34m)\u001b[0m\u001b[0;34m\u001b[0m\u001b[0m\n\u001b[0m\u001b[1;32m    436\u001b[0m     \u001b[0;32mfinally\u001b[0m\u001b[0;34m:\u001b[0m\u001b[0;34m\u001b[0m\u001b[0m\n\u001b[1;32m    437\u001b[0m         \u001b[0mparser\u001b[0m\u001b[0;34m.\u001b[0m\u001b[0mclose\u001b[0m\u001b[0;34m(\u001b[0m\u001b[0;34m)\u001b[0m\u001b[0;34m\u001b[0m\u001b[0m\n",
      "\u001b[0;32m~/anaconda3/envs/vlc2/lib/python3.5/site-packages/pandas/io/parsers.py\u001b[0m in \u001b[0;36mread\u001b[0;34m(self, nrows)\u001b[0m\n\u001b[1;32m   1137\u001b[0m     \u001b[0;32mdef\u001b[0m \u001b[0mread\u001b[0m\u001b[0;34m(\u001b[0m\u001b[0mself\u001b[0m\u001b[0;34m,\u001b[0m \u001b[0mnrows\u001b[0m\u001b[0;34m=\u001b[0m\u001b[0;32mNone\u001b[0m\u001b[0;34m)\u001b[0m\u001b[0;34m:\u001b[0m\u001b[0;34m\u001b[0m\u001b[0m\n\u001b[1;32m   1138\u001b[0m         \u001b[0mnrows\u001b[0m \u001b[0;34m=\u001b[0m \u001b[0m_validate_integer\u001b[0m\u001b[0;34m(\u001b[0m\u001b[0;34m'nrows'\u001b[0m\u001b[0;34m,\u001b[0m \u001b[0mnrows\u001b[0m\u001b[0;34m)\u001b[0m\u001b[0;34m\u001b[0m\u001b[0m\n\u001b[0;32m-> 1139\u001b[0;31m         \u001b[0mret\u001b[0m \u001b[0;34m=\u001b[0m \u001b[0mself\u001b[0m\u001b[0;34m.\u001b[0m\u001b[0m_engine\u001b[0m\u001b[0;34m.\u001b[0m\u001b[0mread\u001b[0m\u001b[0;34m(\u001b[0m\u001b[0mnrows\u001b[0m\u001b[0;34m)\u001b[0m\u001b[0;34m\u001b[0m\u001b[0m\n\u001b[0m\u001b[1;32m   1140\u001b[0m \u001b[0;34m\u001b[0m\u001b[0m\n\u001b[1;32m   1141\u001b[0m         \u001b[0;31m# May alter columns / col_dict\u001b[0m\u001b[0;34m\u001b[0m\u001b[0;34m\u001b[0m\u001b[0m\n",
      "\u001b[0;32m~/anaconda3/envs/vlc2/lib/python3.5/site-packages/pandas/io/parsers.py\u001b[0m in \u001b[0;36mread\u001b[0;34m(self, nrows)\u001b[0m\n\u001b[1;32m   1993\u001b[0m     \u001b[0;32mdef\u001b[0m \u001b[0mread\u001b[0m\u001b[0;34m(\u001b[0m\u001b[0mself\u001b[0m\u001b[0;34m,\u001b[0m \u001b[0mnrows\u001b[0m\u001b[0;34m=\u001b[0m\u001b[0;32mNone\u001b[0m\u001b[0;34m)\u001b[0m\u001b[0;34m:\u001b[0m\u001b[0;34m\u001b[0m\u001b[0m\n\u001b[1;32m   1994\u001b[0m         \u001b[0;32mtry\u001b[0m\u001b[0;34m:\u001b[0m\u001b[0;34m\u001b[0m\u001b[0m\n\u001b[0;32m-> 1995\u001b[0;31m             \u001b[0mdata\u001b[0m \u001b[0;34m=\u001b[0m \u001b[0mself\u001b[0m\u001b[0;34m.\u001b[0m\u001b[0m_reader\u001b[0m\u001b[0;34m.\u001b[0m\u001b[0mread\u001b[0m\u001b[0;34m(\u001b[0m\u001b[0mnrows\u001b[0m\u001b[0;34m)\u001b[0m\u001b[0;34m\u001b[0m\u001b[0m\n\u001b[0m\u001b[1;32m   1996\u001b[0m         \u001b[0;32mexcept\u001b[0m \u001b[0mStopIteration\u001b[0m\u001b[0;34m:\u001b[0m\u001b[0;34m\u001b[0m\u001b[0m\n\u001b[1;32m   1997\u001b[0m             \u001b[0;32mif\u001b[0m \u001b[0mself\u001b[0m\u001b[0;34m.\u001b[0m\u001b[0m_first_chunk\u001b[0m\u001b[0;34m:\u001b[0m\u001b[0;34m\u001b[0m\u001b[0m\n",
      "\u001b[0;32mpandas/_libs/parsers.pyx\u001b[0m in \u001b[0;36mpandas._libs.parsers.TextReader.read\u001b[0;34m()\u001b[0m\n",
      "\u001b[0;32mpandas/_libs/parsers.pyx\u001b[0m in \u001b[0;36mpandas._libs.parsers.TextReader._read_low_memory\u001b[0;34m()\u001b[0m\n",
      "\u001b[0;32mpandas/_libs/parsers.pyx\u001b[0m in \u001b[0;36mpandas._libs.parsers.TextReader._read_rows\u001b[0;34m()\u001b[0m\n",
      "\u001b[0;32mpandas/_libs/parsers.pyx\u001b[0m in \u001b[0;36mpandas._libs.parsers.TextReader._tokenize_rows\u001b[0;34m()\u001b[0m\n",
      "\u001b[0;32mpandas/_libs/parsers.pyx\u001b[0m in \u001b[0;36mpandas._libs.parsers.raise_parser_error\u001b[0;34m()\u001b[0m\n",
      "\u001b[0;31mParserError\u001b[0m: Error tokenizing data. C error: Expected 1 fields in line 2, saw 2\n"
     ]
    }
   ],
   "source": [
    "X=makeX()\n",
    "Y=makeY()\n",
    "X=X[FRAMES_TO_SKIP:]\n",
    "Y=Y[FRAMES_TO_SKIP:]\n",
    "\n",
    "if DEBUG: print(\"X= \",X)\n",
    "\n",
    "if DEBUG: print(\"NAN in X\",np.argwhere(np.isnan(X)))\n",
    "if DEBUG: print(\"NAN in Y\",np.argwhere(np.isnan(Y)))\n",
    "\n",
    "\n",
    "if DEBUG: print(\"X shape: \",np.shape(X))\n",
    "if DEBUG: print(\"Y shape: \",np.shape(Y))\n",
    "\n",
    "INPUT_DIM=X[0].shape\n",
    "OUTPUT_DIM=CELLS_PER_FRAME"
   ]
  },
  {
   "cell_type": "code",
   "execution_count": 8,
   "metadata": {},
   "outputs": [
    {
     "name": "stdout",
     "output_type": "stream",
     "text": [
      "X shape (1000, 108, 192, 1), Y shape (1000, 9).\n"
     ]
    }
   ],
   "source": [
    "'''Preparing the input and output vectors'''\n",
    "X=np.mean(X,axis=3)\n",
    "X=np.reshape(X,(X.shape[0],X.shape[1],X.shape[2],1))\n",
    "\n",
    "X=(X-128.0)/256.0\n",
    "\n",
    "print(\"X shape {}, Y shape {}.\".format(X.shape,Y.shape))\n",
    "\n",
    "xTrain, xTest, yTrain, yTest= train_test_split(X, Y, test_size=0.01)"
   ]
  },
  {
   "cell_type": "code",
   "execution_count": null,
   "metadata": {},
   "outputs": [],
   "source": [
    "'''countY=np.zeros(2**CELLS_PER_FRAME)\n",
    "for f in range(yTrain.shape[0]):\n",
    "    num=0\n",
    "    for m in range(CELLS_PER_FRAME):\n",
    "        num=num*2+yTrain[f][m]\n",
    "    countY[num]=countY[num]+1\n",
    "\n",
    "for c in range(2**CELLS_PER_FRAME):\n",
    "    print(c,countY[c])'''"
   ]
  },
  {
   "cell_type": "code",
   "execution_count": 10,
   "metadata": {},
   "outputs": [
    {
     "data": {
      "text/plain": [
       "\"cv2.imshow('Example frame',X[10,:,:,:])\\ncv2.waitKey(100)\\nprint(Y[10])\""
      ]
     },
     "execution_count": 10,
     "metadata": {},
     "output_type": "execute_result"
    }
   ],
   "source": [
    "if PC:\n",
    "    cv2.imshow('Example frame',X[10,:,:,:])\n",
    "    cv2.waitKey(100)\n",
    "    print(Y[10])"
   ]
  },
  {
   "cell_type": "code",
   "execution_count": null,
   "metadata": {},
   "outputs": [],
   "source": [
    "def maxDiff(y_true, y_pred):\n",
    "    return K.max(K.abs(y_true-y_pred))"
   ]
  },
  {
   "cell_type": "code",
   "execution_count": 11,
   "metadata": {},
   "outputs": [
    {
     "name": "stdout",
     "output_type": "stream",
     "text": [
      "Train on 560 samples, validate on 240 samples\n",
      "Epoch 1/10\n",
      "560/560 [==============================] - 0s 261us/step - loss: 0.4743 - acc: 0.1107 - val_loss: 0.4471 - val_acc: 0.2000\n",
      "Epoch 2/10\n",
      "560/560 [==============================] - 0s 104us/step - loss: 0.4584 - acc: 0.2036 - val_loss: 0.4408 - val_acc: 0.3167\n",
      "Epoch 3/10\n",
      "560/560 [==============================] - 0s 116us/step - loss: 0.4534 - acc: 0.2554 - val_loss: 0.4236 - val_acc: 0.3458\n",
      "Epoch 4/10\n",
      "560/560 [==============================] - 0s 107us/step - loss: 0.4452 - acc: 0.2821 - val_loss: 0.4194 - val_acc: 0.3208\n",
      "Epoch 5/10\n",
      "560/560 [==============================] - 0s 105us/step - loss: 0.4391 - acc: 0.2536 - val_loss: 0.4181 - val_acc: 0.3125\n",
      "Epoch 6/10\n",
      "560/560 [==============================] - 0s 128us/step - loss: 0.4363 - acc: 0.2250 - val_loss: 0.4250 - val_acc: 0.2375\n",
      "Epoch 7/10\n",
      "560/560 [==============================] - 0s 102us/step - loss: 0.4292 - acc: 0.1875 - val_loss: 0.4116 - val_acc: 0.2333\n",
      "Epoch 8/10\n",
      "560/560 [==============================] - 0s 105us/step - loss: 0.4228 - acc: 0.1768 - val_loss: 0.4199 - val_acc: 0.2208\n",
      "Epoch 9/10\n",
      "560/560 [==============================] - 0s 102us/step - loss: 0.4260 - acc: 0.1661 - val_loss: 0.4181 - val_acc: 0.2167\n",
      "Epoch 10/10\n",
      "560/560 [==============================] - 0s 90us/step - loss: 0.4261 - acc: 0.2054 - val_loss: 0.4083 - val_acc: 0.2792\n",
      "_________________________________________________________________\n",
      "Layer (type)                 Output Shape              Param #   \n",
      "=================================================================\n",
      "flatten_1 (Flatten)          (None, 20736)             0         \n",
      "_________________________________________________________________\n",
      "dense_1 (Dense)              (None, 9)                 186633    \n",
      "=================================================================\n",
      "Total params: 186,633\n",
      "Trainable params: 186,633\n",
      "Non-trainable params: 0\n",
      "_________________________________________________________________\n",
      "None\n"
     ]
    }
   ],
   "source": [
    "model=cnn(INPUT_DIM,OUTPUT_DIM)\n",
    "model.build()\n",
    "model.compile(loss='mean_squared_error',optimizer='adam',metrics=['binary_accuracy','accuracy','mean_squared_error','binary_crossentropy',maxDiff])\n",
    "model.fit(xTrain,yTrain,validation_split=0.1,epochs=EPOCHS,verbose=1,batch_size=BATCH_SIZE,shuffle=False)\n",
    "print(model.summary())\n",
    "\n",
    "\n",
    "print(\"Test set evaluation\",model.evaluate(xTest,yTest))\n",
    "\n",
    "print(np.round(model.predict(xTest)))\n"
   ]
  },
  {
   "cell_type": "code",
   "execution_count": null,
   "metadata": {},
   "outputs": [],
   "source": []
  }
 ],
 "metadata": {
  "kernelspec": {
   "display_name": "Python 3",
   "language": "python",
   "name": "python3"
  },
  "language_info": {
   "codemirror_mode": {
    "name": "ipython",
    "version": 3
   },
   "file_extension": ".py",
   "mimetype": "text/x-python",
   "name": "python",
   "nbconvert_exporter": "python",
   "pygments_lexer": "ipython3",
   "version": "3.5.6"
  }
 },
 "nbformat": 4,
 "nbformat_minor": 2
}
