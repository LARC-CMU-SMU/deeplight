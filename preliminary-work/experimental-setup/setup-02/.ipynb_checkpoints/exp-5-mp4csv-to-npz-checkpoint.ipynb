{
 "cells": [
  {
   "cell_type": "code",
   "execution_count": 3,
   "metadata": {},
   "outputs": [
    {
     "ename": "FileNotFoundError",
     "evalue": "[Errno 2] No such file or directory: '../butterfly-code-20x20.csv'",
     "output_type": "error",
     "traceback": [
      "\u001b[0;31m---------------------------------------------------------------------------\u001b[0m",
      "\u001b[0;31mFileNotFoundError\u001b[0m                         Traceback (most recent call last)",
      "\u001b[0;32m<ipython-input-3-fd27115351d9>\u001b[0m in \u001b[0;36m<module>\u001b[0;34m\u001b[0m\n\u001b[1;32m     20\u001b[0m \u001b[0;34m\u001b[0m\u001b[0m\n\u001b[1;32m     21\u001b[0m \u001b[0mvideo\u001b[0m \u001b[0;34m=\u001b[0m \u001b[0mcv2\u001b[0m\u001b[0;34m.\u001b[0m\u001b[0mVideoCapture\u001b[0m\u001b[0;34m(\u001b[0m\u001b[0;34m'{}-code-{}x{}.mp4'\u001b[0m\u001b[0;34m.\u001b[0m\u001b[0mformat\u001b[0m\u001b[0;34m(\u001b[0m\u001b[0mFILE_NAME\u001b[0m\u001b[0;34m,\u001b[0m\u001b[0mGRID_X\u001b[0m\u001b[0;34m,\u001b[0m\u001b[0mGRID_Y\u001b[0m\u001b[0;34m)\u001b[0m\u001b[0;34m)\u001b[0m\u001b[0;34m\u001b[0m\u001b[0m\n\u001b[0;32m---> 22\u001b[0;31m \u001b[0mpattern\u001b[0m \u001b[0;34m=\u001b[0m \u001b[0mopen\u001b[0m\u001b[0;34m(\u001b[0m\u001b[0;34m'{}-code-{}x{}.csv'\u001b[0m\u001b[0;34m.\u001b[0m\u001b[0mformat\u001b[0m\u001b[0;34m(\u001b[0m\u001b[0mFILE_NAME\u001b[0m\u001b[0;34m,\u001b[0m\u001b[0mGRID_X\u001b[0m\u001b[0;34m,\u001b[0m\u001b[0mGRID_Y\u001b[0m\u001b[0;34m)\u001b[0m\u001b[0;34m)\u001b[0m\u001b[0;34m\u001b[0m\u001b[0m\n\u001b[0m\u001b[1;32m     23\u001b[0m \u001b[0mnpzFile\u001b[0m \u001b[0;34m=\u001b[0m \u001b[0;34m'{}-ideal-{}x{}.npz'\u001b[0m\u001b[0;34m.\u001b[0m\u001b[0mformat\u001b[0m\u001b[0;34m(\u001b[0m\u001b[0mFILE_NAME\u001b[0m\u001b[0;34m,\u001b[0m\u001b[0mGRID_X\u001b[0m\u001b[0;34m,\u001b[0m\u001b[0mGRID_Y\u001b[0m\u001b[0;34m)\u001b[0m\u001b[0;34m\u001b[0m\u001b[0m\n\u001b[1;32m     24\u001b[0m \u001b[0;34m\u001b[0m\u001b[0m\n",
      "\u001b[0;31mFileNotFoundError\u001b[0m: [Errno 2] No such file or directory: '../butterfly-code-20x20.csv'"
     ]
    }
   ],
   "source": [
    "FILE_NAME='../butterfly'\n",
    "GRID_X=20\n",
    "GRID_Y=20\n",
    "\n",
    "\n",
    "CELLS_PER_FRAME=GRID_X*GRID_Y\n",
    "\n",
    "import cv2\n",
    "import numpy as np\n",
    "\n",
    "def binArray(x):\n",
    "    ans=np.zeros((CELLS_PER_FRAME),dtype=np.uint8)\n",
    "    \n",
    "    for i in range(CELLS_PER_FRAME):\n",
    "        ans[i]=x&1\n",
    "        x=x>>1\n",
    "    return ans\n",
    "\n",
    "\n",
    "\n",
    "video = cv2.VideoCapture('{}-code-{}x{}.mp4'.format(FILE_NAME,GRID_X,GRID_Y))\n",
    "pattern = open('{}-code-{}x{}.csv'.format(FILE_NAME,GRID_X,GRID_Y))\n",
    "npzFile = '{}-ideal-{}x{}.npz'.format(FILE_NAME,GRID_X,GRID_Y)\n",
    "\n",
    "XX=[]\n",
    "YY=[]\n",
    "\n",
    "while video.isOpened():\n",
    "    ret, frame = video.read()\n",
    "    pat = pattern.readline()\n",
    "    if ret:\n",
    "        YY.append(binArray(int(pat)))\n",
    "        frame=cv2.resize(frame,(299,299),interpolation = cv2.INTER_LINEAR)\n",
    "        XX.append(frame)\n",
    "    else:\n",
    "        break\n",
    "video.release()\n",
    "pattern.close()\n",
    "\n",
    "XX=np.array(XX)\n",
    "YY=np.array(YY)\n",
    "np.savez(npzFile, X=XX, Y=YY)\n",
    "print(\"X shape\",XX.shape,\"Y shape\",YY.shape)"
   ]
  },
  {
   "cell_type": "code",
   "execution_count": null,
   "metadata": {},
   "outputs": [],
   "source": []
  }
 ],
 "metadata": {
  "kernelspec": {
   "display_name": "Python 3",
   "language": "python",
   "name": "python3"
  },
  "language_info": {
   "codemirror_mode": {
    "name": "ipython",
    "version": 3
   },
   "file_extension": ".py",
   "mimetype": "text/x-python",
   "name": "python",
   "nbconvert_exporter": "python",
   "pygments_lexer": "ipython3",
   "version": "3.5.6"
  }
 },
 "nbformat": 4,
 "nbformat_minor": 2
}
