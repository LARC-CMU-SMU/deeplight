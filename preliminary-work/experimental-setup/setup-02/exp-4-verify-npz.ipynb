{
 "cells": [
  {
   "cell_type": "code",
   "execution_count": 3,
   "metadata": {},
   "outputs": [
    {
     "name": "stdout",
     "output_type": "stream",
     "text": [
      "X shape (25000, 299, 299, 3) Y shape (25000, 100)\n"
     ]
    }
   ],
   "source": [
    "'''\n",
    "This script is used to verify the dataset created\n",
    "All you have to do is to change the FILE_NAME variable and run the program\n",
    "'''\n",
    "\n",
    "import numpy as np\n",
    "import cv2\n",
    "import sys\n",
    "import random\n",
    "import math\n",
    "random.seed(625742)\n",
    "FILE_NAME='../../video/videos-ideal-10x10-shuffled.npz'\n",
    "NO_FRAMES_TO_CHECK=10\n",
    "SHELL=False\n",
    "\n",
    "\n",
    "if SHELL:\n",
    "    if len(sys.argv)>=2:\n",
    "        FILE_NAME=sys.argv[1]\n",
    "    if len(sys.argv)==3:\n",
    "        NO_FRAMES_TO_CHECK=int(sys.argv[2])\n",
    "    \n",
    "    \n",
    "\n",
    "data=np.load(FILE_NAME)\n",
    "X=data['X']\n",
    "Y=data['Y']\n",
    "\n",
    "print(\"X shape\",X.shape,\"Y shape\",Y.shape)\n",
    "\n",
    "\n",
    "def genImage(label):\n",
    "    frame=np.zeros((299,299,3),dtype=np.uint8)\n",
    "    noCellsSqrt=int(math.sqrt(len(label)))\n",
    "    h=cellHeight=int(frame.shape[0]/noCellsSqrt)\n",
    "    w=cellWidth=int(frame.shape[1]/noCellsSqrt)\n",
    "    for y in range(noCellsSqrt):\n",
    "        for x in range(noCellsSqrt):\n",
    "            frame[y*h:(y+1)*h,x*w:(x+1)*w,:]=label[y*noCellsSqrt+x]*255\n",
    "    \n",
    "    frame=cv2.transpose(frame,-1)\n",
    "    return frame\n",
    "    \n",
    "\n",
    "for f in range(NO_FRAMES_TO_CHECK):\n",
    "    i=random.randint(0,X.shape[0]-1)\n",
    "    l=genImage(Y[i])\n",
    "\n",
    "    cv2.imshow(\"Image\",X[i])\n",
    "    cv2.imshow(\"Label\",l)\n",
    "    cv2.waitKey(0)\n",
    "    \n",
    "cv2.destroyAllWindows()\n"
   ]
  },
  {
   "cell_type": "code",
   "execution_count": null,
   "metadata": {},
   "outputs": [],
   "source": []
  }
 ],
 "metadata": {
  "kernelspec": {
   "display_name": "Python 3",
   "language": "python",
   "name": "python3"
  },
  "language_info": {
   "codemirror_mode": {
    "name": "ipython",
    "version": 3
   },
   "file_extension": ".py",
   "mimetype": "text/x-python",
   "name": "python",
   "nbconvert_exporter": "python",
   "pygments_lexer": "ipython3",
   "version": "3.5.6"
  }
 },
 "nbformat": 4,
 "nbformat_minor": 2
}
