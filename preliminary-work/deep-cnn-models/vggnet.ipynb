{
 "cells": [
  {
   "cell_type": "code",
   "execution_count": null,
   "metadata": {},
   "outputs": [],
   "source": [
    "DEBUG=True\n",
    "PC=False\n",
    "GPU=1\n",
    "NO_MAX_FRAMES=20000\n",
    "\n",
    "\n",
    "TARGET_COST=0.01"
   ]
  },
  {
   "cell_type": "code",
   "execution_count": null,
   "metadata": {},
   "outputs": [],
   "source": [
    "import tensorflow as tf\n",
    "tf.set_random_seed(625742)\n",
    "from tensorflow.contrib.learn.python.learn.estimators._sklearn import train_test_split\n",
    "# import keras.backend as K\n",
    "import time\n",
    "\n",
    "import numpy as np\n",
    "import cv2\n",
    "import sys\n",
    "import os\n",
    "import pandas as pd\n",
    "import keras\n",
    "from keras.models import Sequential\n",
    "from keras.layers import Dense, Activation, Dropout, Flatten, Conv2D, MaxPooling2D\n",
    "from keras.layers.normalization import BatchNormalization\n",
    "import numpy as np\n"
   ]
  },
  {
   "cell_type": "code",
   "execution_count": null,
   "metadata": {},
   "outputs": [],
   "source": [
    "def makeY(fileNameCsv,noFrames,skipFrames):\n",
    "    df=pd.read_csv(fileNameCsv, sep=',',header=None)\n",
    "    df=np.array(df).astype(np.float32)\n",
    "    \n",
    "    return df[skipFrames:noFrames,:]"
   ]
  },
  {
   "cell_type": "code",
   "execution_count": null,
   "metadata": {},
   "outputs": [],
   "source": [
    "\n",
    "def makeX(fileNameVideo,noFrames,skipFrames):\n",
    "    cap = cv2.VideoCapture(fileNameVideo)\n",
    "    if (cap.isOpened()== False): \n",
    "        print(\"Error opening video stream or file\")\n",
    "    ret,frame=cap.read()\n",
    "\n",
    "\n",
    "    X=np.zeros((noFrames,FRAME_HEIGHT,FRAME_WIDTH,COLOR_CHANNELS),dtype=np.float32)\n",
    "        \n",
    "    for f in range(noFrames):\n",
    "        X[f,:,:,:]=frame\n",
    "        ret,frame=cap.read()\n",
    "    return X[skipFrames:,:,:,:]\n"
   ]
  },
  {
   "cell_type": "code",
   "execution_count": null,
   "metadata": {},
   "outputs": [],
   "source": [
    "FRAME_HEIGHT=224\n",
    "FRAME_WIDTH=224\n",
    "COLOR_CHANNELS=3\n",
    "CELLS_PER_FRAME=9\n",
    "\n",
    "INPUT_DIM=(FRAME_HEIGHT,FRAME_WIDTH)\n",
    "OUTPUT_DIM=CELLS_PER_FRAME\n",
    "\n",
    "\n",
    "EPOCHS=200\n",
    "BATCH_SIZE=64\n",
    "CUDA1=4\n",
    "CUDA2=7\n",
    "\n",
    "\n",
    "if GPU==0:\n",
    "    os.environ[\"CUDA_VISIBLE_DEVICES\"]=\"-1\"    \n",
    "elif GPU==1:\n",
    "    os.environ[\"CUDA_VISIBLE_DEVICES\"]=\"{}\".format(CUDA1)\n",
    "elif GPU==2:\n",
    "    os.environ[\"CUDA_VISIBLE_DEVICES\"]=\"{},{}\".format(CUDA1,CUDA2)\n",
    "\n",
    "sess = tf.Session()"
   ]
  },
  {
   "cell_type": "code",
   "execution_count": null,
   "metadata": {},
   "outputs": [],
   "source": [
    "def trainAndTestForVideo(model,fileName,noFrames,framesToSkip=0,videoFileFormat='.avi',testSplit=0.1):\n",
    "    print(\">>>>>>>>>>>>>>>>>>>>>>>>>>>>>>>>>>>>Starting new video file\\n>>>>>>>>>>>>>>>>>>>>>>>>>>>>>>>>>>>>{}\".format(fileName))\n",
    "    \n",
    "    FILE_NAME=fileName\n",
    "    FILE_NAME_VIDEO=FILE_NAME+videoFileFormat\n",
    "    FILE_NAME_CSV=FILE_NAME+'.csv'\n",
    "\n",
    "    NO_FRAMES=noFrames\n",
    "    if PC: NO_FRAMES=100\n",
    "    FRAMES_TO_SKIP=framesToSkip\n",
    "\n",
    "    dataX=makeX(FILE_NAME_VIDEO,NO_FRAMES,FRAMES_TO_SKIP)\n",
    "    dataY=makeY(FILE_NAME_CSV,NO_FRAMES,FRAMES_TO_SKIP)\n",
    "    \n",
    "    dataX=(dataX-127.5)/128.0\n",
    "\n",
    "    \n",
    "    if DEBUG: print(\"X type: {}, Y type: {}.\".format(dataX.dtype,dataY.dtype))\n",
    "    xTrain, xTest, yTrain, yTest= train_test_split(dataX, dataY, test_size=testSplit)\n",
    "    print(\"SIZES: xTrain {}, yTrain {}, xTest {}, yTest {}\".format(xTrain.shape,yTrain.shape,xTest.shape,yTest.shape))\n",
    "    \n",
    "    iters=int(input(\"How many iters more? : \"))\n",
    "    while iters>0:\n",
    "        model.fit(xTrain,yTrain,epochs=1, verbose=1)#,batch_size=BATCH_SIZE)\n",
    "        iters-=1\n",
    "        if iters==0:\n",
    "            iters=int(input(\"How many iters more? : \"))\n",
    "        \n",
    "    print(model.evaluate(xTrain,yTrain))\n",
    "    print(model.evaluate(xTest,yTest))\n",
    "    \n",
    "    \n",
    "    "
   ]
  },
  {
   "cell_type": "code",
   "execution_count": null,
   "metadata": {},
   "outputs": [],
   "source": [
    "\n",
    "def vggNet():\n",
    "\n",
    "    #Instantiate an empty model\n",
    "    model = Sequential([\n",
    "    \n",
    "    Conv2D(3, (1, 1), input_shape=(FRAME_HEIGHT,FRAME_WIDTH,COLOR_CHANNELS), padding='same', activation='relu'),\n",
    "#     Conv2D(64, (3, 3), activation='relu', padding='same'),\n",
    "#     MaxPooling2D(pool_size=(2, 2), strides=(2, 2)),\n",
    "#     Conv2D(128, (3, 3), activation='relu', padding='same'),\n",
    "#     Conv2D(128, (3, 3), activation='relu', padding='same',),\n",
    "#     MaxPooling2D(pool_size=(2, 2), strides=(2, 2)),\n",
    "#     Conv2D(256, (3, 3), activation='relu', padding='same',),\n",
    "#     Conv2D(256, (3, 3), activation='relu', padding='same',),\n",
    "#     Conv2D(256, (3, 3), activation='relu', padding='same',),\n",
    "#     MaxPooling2D(pool_size=(2, 2), strides=(2, 2)),\n",
    "#     Conv2D(512, (3, 3), activation='relu', padding='same',),\n",
    "#     Conv2D(512, (3, 3), activation='relu', padding='same',),\n",
    "#     Conv2D(512, (3, 3), activation='relu', padding='same',),\n",
    "#     MaxPooling2D(pool_size=(2, 2), strides=(2, 2)),\n",
    "#     Conv2D(512, (3, 3), activation='relu', padding='same',),\n",
    "#     Conv2D(512, (3, 3), activation='relu', padding='same',),\n",
    "#     Conv2D(512, (3, 3), activation='relu', padding='same',),\n",
    "#     MaxPooling2D(pool_size=(2, 2), strides=(2, 2)),\n",
    "    Flatten(),\n",
    "#     Dense(256, activation='relu'),\n",
    "    Dense(CELLS_PER_FRAME, activation='sigmoid')\n",
    "    ])\n",
    "\n",
    "    '''Dense(4096, activation='relu'),\n",
    "    Dense(4096, activation='relu'),'''\n",
    "    \n",
    "    model.summary()\n",
    "\n",
    "    model.compile(loss=keras.losses.mean_squared_error, optimizer='adam', metrics=['accuracy'])\n",
    "    \n",
    "    return model"
   ]
  },
  {
   "cell_type": "code",
   "execution_count": null,
   "metadata": {},
   "outputs": [],
   "source": [
    "trainAndTestForVideo(vggNet(),'./video/real00',10000,videoFileFormat='.avi',testSplit=0.2)"
   ]
  },
  {
   "cell_type": "code",
   "execution_count": null,
   "metadata": {},
   "outputs": [],
   "source": []
  }
 ],
 "metadata": {
  "kernelspec": {
   "display_name": "Python 3",
   "language": "python",
   "name": "python3"
  },
  "language_info": {
   "codemirror_mode": {
    "name": "ipython",
    "version": 3
   },
   "file_extension": ".py",
   "mimetype": "text/x-python",
   "name": "python",
   "nbconvert_exporter": "python",
   "pygments_lexer": "ipython3",
   "version": "3.5.6"
  }
 },
 "nbformat": 4,
 "nbformat_minor": 2
}
