{
 "cells": [
  {
   "cell_type": "code",
   "execution_count": 1,
   "metadata": {},
   "outputs": [
    {
     "data": {
      "text/plain": [
       "'\\ngihanchanaka@gmail.com\\n11-03-2019\\n    1)This is to learn from BW and predict random\\n    2)          learn from random and predict movie\\n'"
      ]
     },
     "execution_count": 1,
     "metadata": {},
     "output_type": "execute_result"
    }
   ],
   "source": [
    "'''\n",
    "gihanchanaka@gmail.com\n",
    "11-03-2019\n",
    "    1)This is to learn from BW and predict random\n",
    "    2)          learn from random and predict movie\n",
    "'''"
   ]
  },
  {
   "cell_type": "code",
   "execution_count": 2,
   "metadata": {},
   "outputs": [],
   "source": [
    "DEBUG=True\n",
    "PC=False\n",
    "\n",
    "TARGET_COST=0.001"
   ]
  },
  {
   "cell_type": "code",
   "execution_count": 3,
   "metadata": {},
   "outputs": [],
   "source": [
    "# from keras.models import Sequential\n",
    "# from keras.layers import Conv2D,Flatten,Dense,Dropout\n",
    "import tensorflow as tf\n",
    "from tensorflow.contrib.learn.python.learn.estimators._sklearn import train_test_split\n",
    "# import keras.backend as K\n",
    "\n",
    "import numpy as np\n",
    "import cv2\n",
    "import sys\n",
    "import os\n",
    "import pandas as pd\n"
   ]
  },
  {
   "cell_type": "code",
   "execution_count": 4,
   "metadata": {},
   "outputs": [],
   "source": [
    "currentTotalIterations=0\n",
    "#keras.callbacks.TensorBoard(log_dir='./logs/cnnModel04/', histogram_freq=0, batch_size=32, write_graph=True, write_grads=False, write_images=False, embeddings_freq=0, embeddings_layer_names=None, embeddings_metadata=None, embeddings_data=None,)"
   ]
  },
  {
   "cell_type": "code",
   "execution_count": 5,
   "metadata": {},
   "outputs": [],
   "source": [
    "def inputLayer(inputTensor,outputShape=None):\n",
    "    if outputShape==None:\n",
    "        outputTensor= inputTensor\n",
    "    else:\n",
    "        #x2D=tf.reshape(xFlat,[-1,imgSize,imgSize,noColorChannels])\n",
    "        inputShape=inputTensor.get_shape()\n",
    "        outputTensor=tf.reshape(inputTensor,[-1,outputShape[0],outputShape[1],1])\n",
    "    \n",
    "    if DEBUG: print(\"DEBUG: Conv layer added with output tensor shape {}\".format(outputTensor.shape))\n",
    "    return outputTensor\n",
    "\n",
    "    "
   ]
  },
  {
   "cell_type": "code",
   "execution_count": 6,
   "metadata": {},
   "outputs": [],
   "source": [
    "def convLayer2D(inputTensor,kernelShape,noKernels,poolingSize=None,activation=None):\n",
    "    filterLength=kernelShape[0]\n",
    "    filterHeight=kernelShape[1]\n",
    "    noFilters=noKernels\n",
    "    inputShape=inputTensor.get_shape()\n",
    "    if DEBUG: print(\"DEBUG: {}\".format(inputShape))\n",
    "    noChannels=int(inputShape[-1])\n",
    "\n",
    "    shape=[filterLength,filterHeight,noChannels,noFilters]\n",
    "    if DEBUG: print(\"DEBUG: Shape of weights {}\".format(shape))\n",
    "\n",
    "    weights=tf.Variable(tf.truncated_normal(shape,stddev=0.5))\n",
    "    biases=tf.Variable(tf.constant(0.05,shape=[noFilters]))\n",
    "    outputTensor=tf.nn.conv2d(input=inputTensor,filter=weights,strides=[1,1,1,1],padding='SAME')\n",
    "    #strides=[img,x,y,colourChannel]\n",
    "    outputTensor=outputTensor+biases\n",
    "    \n",
    "    if poolingSize!=None:\n",
    "        outputTensor=maxPoolingLayer(outputTensor,poolingSize)\n",
    "    if activation=='relu':\n",
    "        outputTensor=relu(outputTensor)\n",
    "    if DEBUG: print(\"DEBUG: Conv layer added with output tensor shape {}\".format(outputTensor.shape))\n",
    "    return outputTensor\n",
    "\n",
    "\n"
   ]
  },
  {
   "cell_type": "code",
   "execution_count": 7,
   "metadata": {},
   "outputs": [],
   "source": [
    "#def maxPoolingLayer(inputTensor,kernelSize):\n",
    "    return tf.nn.max_pool(value=inputTensor,ksize=[1,kernelSize[0],kernelSize[1],1],strides=[1,kernelSize[0],kernelSize[1],1],padding='SAME')\n"
   ]
  },
  {
   "cell_type": "code",
   "execution_count": 8,
   "metadata": {},
   "outputs": [],
   "source": [
    "def relu(inputTensor):    \n",
    "    return tf.nn.relu(inputTensor)"
   ]
  },
  {
   "cell_type": "code",
   "execution_count": 9,
   "metadata": {},
   "outputs": [],
   "source": [
    "def sigmoid(inputTensor):    \n",
    "    return tf.nn.sigmoid(inputTensor)"
   ]
  },
  {
   "cell_type": "code",
   "execution_count": 10,
   "metadata": {},
   "outputs": [],
   "source": [
    "def flatten(inputTensor):\n",
    "    shape=inputTensor.get_shape()  # layer_shape == [num_images, img_height, img_width, num_channels]\n",
    "    noFeatures=int(shape[1]*shape[2]*shape[3])\n",
    "    outputTensor=tf.reshape(inputTensor,[-1,noFeatures])\n",
    "    return outputTensor"
   ]
  },
  {
   "cell_type": "code",
   "execution_count": 11,
   "metadata": {},
   "outputs": [],
   "source": [
    "def fullyConnectedLayer(inputTensor,outputSize):\n",
    "    inputShape=inputTensor.get_shape()\n",
    "    shape=[int(inputShape[1]),outputSize]\n",
    "    weights=tf.Variable(tf.truncated_normal(shape,stddev=0.5))\n",
    "    biases=tf.Variable(tf.constant(0.05,shape=[outputSize]))\n",
    "    outputTensor=tf.matmul(inputTensor,weights)+biases\n",
    "    if DEBUG: print(\"DEBUG: Added fully connected layer with output shape {}.\".format(outputTensor.shape))\n",
    "    return outputTensor"
   ]
  },
  {
   "cell_type": "code",
   "execution_count": 12,
   "metadata": {},
   "outputs": [],
   "source": [
    "def buildNetwork(outputTensor,targetTensor):\n",
    "    if DEBUG: print(\"DEBUG: Building network target tensor {} out tensor {}\".format(targetTensor.shape,outputTensor.shape))\n",
    "    sqError=tf.squared_difference(outputTensor,targetTensor)  \n",
    "    if DEBUG: print(\"DEBUG: sqError shape= {}\".format(sqError.shape))\n",
    "    cost=tf.reduce_mean(sqError,1)\n",
    "    cost=tf.reduce_mean(cost,0)\n",
    "    if DEBUG: print(\"DEBUG: cost shape= {}\".format(cost.shape))\n",
    "    optimizer=tf.train.AdamOptimizer(learning_rate=0.01).minimize(cost)\n",
    "    yPred=tf.round(outputTensor)\n",
    "    if DEBUG: print(\"DEBUG: yPred shape= {}\".format(yPred.shape))\n",
    "    correctPrediction=tf.equal(yPred,targetTensor)\n",
    "    if DEBUG: print(\"DEBUG: correctPrediction shape= {}\".format(correctPrediction.shape))\n",
    "    accuracy=tf.reduce_mean(tf.cast(correctPrediction,tf.float32))\n",
    "    if DEBUG: print(\"DEBUG: accuracy shape= {}\".format(accuracy.shape))\n",
    "    \n",
    "    \n",
    "    print(\"yPred\",yPred.shape,\"Correct pred\",correctPrediction.shape,\"Accuracy\",accuracy.shape,\"Sq error\",sqError.shape,\"Cost\",cost.shape)    \n",
    "    \n",
    "    if DEBUG: print(\"DEBUG: Completed building network\")\n",
    "    return outputTensor,optimizer,accuracy,cost\n"
   ]
  },
  {
   "cell_type": "code",
   "execution_count": 23,
   "metadata": {},
   "outputs": [],
   "source": [
    "def train(iterr,optimizer,noIterations,X,Y):\n",
    "    DISPLAY_PROGRESS_EVERY_ITER=1\n",
    "    DISPLAY_PROGRESS_EVERY_BATCH=25\n",
    "    \n",
    "    global currentTotalIterations\n",
    "    \n",
    "    \n",
    "    for it in range(currentTotalIterations,currentTotalIterations+noIterations):\n",
    "        sess.run(iterr.initializer,feed_dict={placeX:X,placeY:Y})\n",
    "        \n",
    "        batch=0\n",
    "        while True:\n",
    "#            sess.run(optimizer)\n",
    "             try:\n",
    "                 sess.run(optimizer)\n",
    "#                 '''if batch%DISPLAY_PROGRESS_EVERY_BATCH==0:\n",
    "#                     #if batch != 0: sys.stdout.write(\"\\r\")\n",
    "#                     sys.stdout.write(\"Iter= {} ,Batch= {}\".format(it+1,batch))\n",
    "#                     sys.stdout.flush()\n",
    "#                 batch+=1'''\n",
    "                 batch+=1\n",
    "             except:\n",
    "                 print(\"{} batches trained\",batch)\n",
    "                 break \n",
    "        \n",
    "        if (it>0)  and (it%DISPLAY_PROGRESS_EVERY_ITER==0):\n",
    "            print(\"Iter {} complete\".format(it+1))\n",
    "            #printAccuracy(iterr,dataset,acc,\"Train\",cst)\n",
    "    currentTotalIterations+=noIterations\n",
    "    print(\"DEBUG: train() function completed\")"
   ]
  },
  {
   "cell_type": "code",
   "execution_count": 14,
   "metadata": {},
   "outputs": [],
   "source": [
    "def makeY(fileNameCsv,noFrames,skipFrames):\n",
    "    df=pd.read_csv(fileNameCsv, sep=',',header=None)\n",
    "    df=np.array(df).astype(np.float32)\n",
    "    \n",
    "    return df[skipFrames:noFrames,:]"
   ]
  },
  {
   "cell_type": "code",
   "execution_count": 15,
   "metadata": {},
   "outputs": [],
   "source": [
    "def makeX(fileNameVideo,noFrames,skipFrames):\n",
    "    cap = cv2.VideoCapture(fileNameVideo)\n",
    "    if (cap.isOpened()== False): \n",
    "      print(\"Error opening video stream or file\")\n",
    "    ret,frame=cap.read()\n",
    "\n",
    "\n",
    "    X=np.zeros((noFrames,FRAME_HEIGHT,FRAME_WIDTH,COLOR_CHANNELS),dtype=np.float32)\n",
    "        \n",
    "    for f in range(NO_FRAMES):\n",
    "        X[f,:,:,:]=frame\n",
    "        ret,frame=cap.read()\n",
    "    return X[skipFrames:,:,:,:]\n"
   ]
  },
  {
   "cell_type": "code",
   "execution_count": 16,
   "metadata": {},
   "outputs": [],
   "source": [
    "def maxDiff(y_true, y_pred):\n",
    "    return K.max(K.abs(y_true-y_pred))"
   ]
  },
  {
   "cell_type": "code",
   "execution_count": 17,
   "metadata": {},
   "outputs": [],
   "source": [
    "def printAccuracy(iterr,X,Y,acc,cost,trainOrTest):\n",
    "    DISPLAY_PROGRESS_EVERY_BATCH=25\n",
    "\n",
    "    sess.run(iterr.initializer,feed_dict={placeX:X,placeY:Y})\n",
    "    \n",
    "    accCountProductSum=0.0\n",
    "    costCountProductSum=0.0\n",
    "    countSum=0.0\n",
    "    batches=0\n",
    "    while True:\n",
    "        try:\n",
    "            \n",
    "            #Please note: These two lines are not 100% correct. This is just guesswork!\n",
    "            a,c=sess.run([acc,cost])\n",
    "            accCountProductSum+=a\n",
    "            costCountProductSum+=c\n",
    "#            if DEBUG: print(\"DEBUG: Batch accuracy= {}, batch cost= {}\".format(a,c))\n",
    "            countSum+=1\n",
    "            batches+=1\n",
    "            \n",
    "#             if batches%DISPLAY_PROGRESS_EVERY_BATCH==0:\n",
    "#                     #if batches != 0: sys.stdout.write(\"\\r\")\n",
    "#                     sys.stdout.write(\"Evaluating batch= {}\".format(batch))\n",
    "#                     sys.stdout.flush()\n",
    "\n",
    "        except:\n",
    "            if DEBUG: print(\"No batches of data ,\",batches)\n",
    "            if countSum==0: break\n",
    "            costVal=costCountProductSum/countSum\n",
    "            accVal=trainOrTest,accCountProductSum/countSum\n",
    "            print(\"{} accuracy= {}, cost= {}\".format(trainOrTest,accVal,costVal))\n",
    "            return accVal,costVal\n",
    "            break\n"
   ]
  },
  {
   "cell_type": "code",
   "execution_count": 18,
   "metadata": {},
   "outputs": [],
   "source": [
    "FRAME_HEIGHT=100\n",
    "FRAME_WIDTH=200\n",
    "COLOR_CHANNELS=3\n",
    "CELLS_PER_FRAME=25\n",
    "\n",
    "INPUT_DIM=(FRAME_HEIGHT,FRAME_WIDTH)\n",
    "OUTPUT_DIM=CELLS_PER_FRAME\n",
    "\n",
    "\n",
    "EPOCHS=10\n",
    "BATCH_SIZE=64\n",
    "CUDA1=0\n",
    "CUDA2=1\n",
    "\n",
    "os.environ[\"CUDA_VISIBLE_DEVICES\"]=\"{},{}\".format(CUDA1,CUDA2)\n",
    "sess = tf.Session()"
   ]
  },
  {
   "cell_type": "code",
   "execution_count": 19,
   "metadata": {},
   "outputs": [
    {
     "name": "stdout",
     "output_type": "stream",
     "text": [
      "X type: float32, Y type: float32.\n",
      "SIZES: xTrain (9000, 100, 200, 3), yTrain (9000, 25), xTest (1000, 100, 200, 3), yTest (1000, 25)\n"
     ]
    }
   ],
   "source": [
    "'''\n",
    "BLACK AND WHITE VIDEO\n",
    "\n",
    "'''\n",
    "FILE_NAME='./video/bw'\n",
    "FILE_NAME_VIDEO=FILE_NAME+'.avi'\n",
    "FILE_NAME_CSV=FILE_NAME+'.csv'\n",
    "\n",
    "NO_FRAMES=10000\n",
    "if PC: NO_FRAMES=100\n",
    "FRAMES_TO_SKIP=0\n",
    "\n",
    "dataX=makeX(FILE_NAME_VIDEO,NO_FRAMES,FRAMES_TO_SKIP)\n",
    "dataY=makeY(FILE_NAME_CSV,NO_FRAMES,FRAMES_TO_SKIP)\n",
    "\n",
    "\n",
    "\n",
    "\n",
    "if DEBUG: print(\"X type: {}, Y type: {}.\".format(dataX.dtype,dataY.dtype))\n",
    "\n",
    "xTrain, xTest, yTrain, yTest= train_test_split(dataX, dataY, test_size=0.1)\n",
    "\n",
    "print(\"SIZES: xTrain {}, yTrain {}, xTest {}, yTest {}\".format(xTrain.shape,yTrain.shape,xTest.shape,yTest.shape))\n",
    "\n",
    "\n",
    "placeX=tf.placeholder(tf.float32,shape=[None,INPUT_DIM[0],INPUT_DIM[1],COLOR_CHANNELS])\n",
    "placeY=tf.placeholder(tf.float32,shape=[None,CELLS_PER_FRAME])\n",
    "\n",
    "data=(placeX,placeY)\n",
    "dataset=tf.data.Dataset.from_tensor_slices(data)\n",
    "#dataset=dataset.shuffle(buffer_size=NO_FRAMES,reshuffle_each_iteration=True)\n",
    "dataset=dataset.batch(BATCH_SIZE)\n",
    "iterr=dataset.make_initializable_iterator()\n",
    "\n",
    "\n",
    "\n"
   ]
  },
  {
   "cell_type": "code",
   "execution_count": 20,
   "metadata": {},
   "outputs": [
    {
     "name": "stdout",
     "output_type": "stream",
     "text": [
      "DEBUG: Shapes xColour (?, 100, 200, 3) yTure (?, 25) xGrey (?, 100, 200)\n",
      "DEBUG: Conv layer added with output tensor shape (?, 100, 200, 1)\n",
      "DEBUG: Added fully connected layer with output shape (?, 25).\n",
      "DEBUG: Building network target tensor (?, 25) out tensor (?, 25)\n",
      "DEBUG: sqError shape= (?, 25)\n",
      "DEBUG: cost shape= (?,)\n",
      "DEBUG: yPred shape= (?, 25)\n",
      "DEBUG: correctPrediction shape= (?, 25)\n",
      "DEBUG: accuracy shape= ()\n",
      "yPred (?, 25) Correct pred (?, 25) Accuracy () Sq error (?, 25) Cost (?,)\n",
      "DEBUG: Completed building network\n",
      "layer shapes 1:(?, 100, 200, 1) 2:(?, 20000) 3:(?, 25) \n"
     ]
    }
   ],
   "source": [
    "'''xColour=tf.placeholder(tf.float32,shape=[None,INPUT_DIM[0],INPUT_DIM[1],COLOR_CHANNELS],name='xColour')\n",
    "yTrue=tf.placeholder(tf.float32,shape=[None,CELLS_PER_FRAME],name='yTrue')'''\n",
    "\n",
    "xColour,yTrue=iterr.get_next()\n",
    "xGrey=tf.reduce_mean(xColour-128.0,axis=-1)/255.0\n",
    "if DEBUG: print(\"DEBUG: Shapes xColour {} yTure {} xGrey {}\".format(xColour.shape,yTrue.shape,xGrey.shape))\n",
    "\n",
    "l1=inputLayer(xGrey,[INPUT_DIM[0],INPUT_DIM[1]])\n",
    "l2=flatten(l1)\n",
    "l3=fullyConnectedLayer(l2,OUTPUT_DIM)\n",
    "l4=sigmoid(l3)\n",
    "yPred,opt,acc,cst=buildNetwork(l4,yTrue)\n",
    "\n",
    "\n",
    "sess.run(tf.global_variables_initializer())\n",
    "\n",
    "\n",
    "if DEBUG: print(\"layer shapes 1:{} 2:{} 3:{} \".format(l1.shape,l2.shape,l3.shape))\n",
    "    \n"
   ]
  },
  {
   "cell_type": "code",
   "execution_count": 24,
   "metadata": {},
   "outputs": [
    {
     "name": "stdout",
     "output_type": "stream",
     "text": [
      "DEBUG: Batch accuracy= 0.5600000023841858, batch cost= [0.44]\n",
      "DEBUG: Batch accuracy= 0.6000000238418579, batch cost= [0.4]\n",
      "DEBUG: Batch accuracy= 0.47999998927116394, batch cost= [0.52]\n",
      "DEBUG: Batch accuracy= 0.6399999856948853, batch cost= [0.36]\n",
      "DEBUG: Batch accuracy= 0.5199999809265137, batch cost= [0.48]\n",
      "DEBUG: Batch accuracy= 0.3199999928474426, batch cost= [0.68]\n",
      "DEBUG: Batch accuracy= 0.6000000238418579, batch cost= [0.4]\n",
      "DEBUG: Batch accuracy= 0.4399999976158142, batch cost= [0.56]\n",
      "DEBUG: Batch accuracy= 0.36000001430511475, batch cost= [0.64]\n",
      "DEBUG: Batch accuracy= 0.5600000023841858, batch cost= [0.44]\n",
      "DEBUG: Batch accuracy= 0.4399999976158142, batch cost= [0.56]\n",
      "DEBUG: Batch accuracy= 0.47999998927116394, batch cost= [0.52]\n",
      "DEBUG: Batch accuracy= 0.6000000238418579, batch cost= [0.4]\n",
      "DEBUG: Batch accuracy= 0.4399999976158142, batch cost= [0.56]\n",
      "DEBUG: Batch accuracy= 0.5199999809265137, batch cost= [0.48]\n",
      "DEBUG: Batch accuracy= 0.6399999856948853, batch cost= [0.36]\n",
      "DEBUG: Batch accuracy= 0.47999998927116394, batch cost= [0.52]\n",
      "DEBUG: Batch accuracy= 0.7200000286102295, batch cost= [0.28]\n",
      "DEBUG: Batch accuracy= 0.6000000238418579, batch cost= [0.4]\n",
      "DEBUG: Batch accuracy= 0.5199999809265137, batch cost= [0.48]\n",
      "DEBUG: Batch accuracy= 0.6800000071525574, batch cost= [0.32]\n",
      "DEBUG: Batch accuracy= 0.4399999976158142, batch cost= [0.56]\n",
      "DEBUG: Batch accuracy= 0.6399999856948853, batch cost= [0.36]\n",
      "DEBUG: Batch accuracy= 0.47999998927116394, batch cost= [0.52]\n",
      "DEBUG: Batch accuracy= 0.5600000023841858, batch cost= [0.44]\n",
      "No batches of data , 25\n",
      "Training accuracy= 0.5327999997138977, cost= [0.4671999]\n",
      "DEBUG: Batch accuracy= 0.4399999976158142, batch cost= [0.56]\n",
      "DEBUG: Batch accuracy= 0.47999998927116394, batch cost= [0.52]\n",
      "DEBUG: Batch accuracy= 0.5199999809265137, batch cost= [0.48]\n",
      "DEBUG: Batch accuracy= 0.4399999976158142, batch cost= [0.56]\n",
      "DEBUG: Batch accuracy= 0.5199999809265137, batch cost= [0.48]\n",
      "DEBUG: Batch accuracy= 0.6000000238418579, batch cost= [0.4]\n",
      "DEBUG: Batch accuracy= 0.4000000059604645, batch cost= [0.6]\n",
      "DEBUG: Batch accuracy= 0.5199999809265137, batch cost= [0.48]\n",
      "DEBUG: Batch accuracy= 0.6399999856948853, batch cost= [0.36]\n",
      "DEBUG: Batch accuracy= 0.6000000238418579, batch cost= [0.4]\n",
      "DEBUG: Batch accuracy= 0.6399999856948853, batch cost= [0.36]\n",
      "DEBUG: Batch accuracy= 0.6000000238418579, batch cost= [0.4]\n",
      "DEBUG: Batch accuracy= 0.4399999976158142, batch cost= [0.56]\n",
      "DEBUG: Batch accuracy= 0.6000000238418579, batch cost= [0.4]\n",
      "DEBUG: Batch accuracy= 0.47999998927116394, batch cost= [0.52]\n",
      "DEBUG: Batch accuracy= 0.6399999856948853, batch cost= [0.36]\n",
      "DEBUG: Batch accuracy= 0.47999998927116394, batch cost= [0.52]\n",
      "DEBUG: Batch accuracy= 0.4000000059604645, batch cost= [0.6]\n",
      "DEBUG: Batch accuracy= 0.4000000059604645, batch cost= [0.6]\n",
      "DEBUG: Batch accuracy= 0.6800000071525574, batch cost= [0.32]\n",
      "DEBUG: Batch accuracy= 0.5199999809265137, batch cost= [0.48]\n",
      "DEBUG: Batch accuracy= 0.6000000238418579, batch cost= [0.4]\n",
      "DEBUG: Batch accuracy= 0.800000011920929, batch cost= [0.2]\n",
      "DEBUG: Batch accuracy= 0.6800000071525574, batch cost= [0.32]\n",
      "DEBUG: Batch accuracy= 0.6000000238418579, batch cost= [0.4]\n",
      "No batches of data , 25\n",
      "Testing accuracy= 0.5488000011444092, cost= [0.45119995]\n"
     ]
    },
    {
     "ename": "OutOfRangeError",
     "evalue": "End of sequence\n\t [[node IteratorGetNext (defined at <ipython-input-20-fcba30c9b387>:4)  = IteratorGetNext[output_shapes=[[?,100,200,3], [?,25]], output_types=[DT_FLOAT, DT_FLOAT], _device=\"/job:localhost/replica:0/task:0/device:CPU:0\"](IteratorV2)]]\n\nCaused by op 'IteratorGetNext', defined at:\n  File \"/home/gihanchanaka/anaconda3/envs/vlc2/lib/python3.5/runpy.py\", line 193, in _run_module_as_main\n    \"__main__\", mod_spec)\n  File \"/home/gihanchanaka/anaconda3/envs/vlc2/lib/python3.5/runpy.py\", line 85, in _run_code\n    exec(code, run_globals)\n  File \"/home/gihanchanaka/anaconda3/envs/vlc2/lib/python3.5/site-packages/ipykernel_launcher.py\", line 16, in <module>\n    app.launch_new_instance()\n  File \"/home/gihanchanaka/anaconda3/envs/vlc2/lib/python3.5/site-packages/traitlets/config/application.py\", line 658, in launch_instance\n    app.start()\n  File \"/home/gihanchanaka/anaconda3/envs/vlc2/lib/python3.5/site-packages/ipykernel/kernelapp.py\", line 505, in start\n    self.io_loop.start()\n  File \"/home/gihanchanaka/anaconda3/envs/vlc2/lib/python3.5/site-packages/tornado/platform/asyncio.py\", line 132, in start\n    self.asyncio_loop.run_forever()\n  File \"/home/gihanchanaka/anaconda3/envs/vlc2/lib/python3.5/asyncio/base_events.py\", line 421, in run_forever\n    self._run_once()\n  File \"/home/gihanchanaka/anaconda3/envs/vlc2/lib/python3.5/asyncio/base_events.py\", line 1425, in _run_once\n    handle._run()\n  File \"/home/gihanchanaka/anaconda3/envs/vlc2/lib/python3.5/asyncio/events.py\", line 127, in _run\n    self._callback(*self._args)\n  File \"/home/gihanchanaka/anaconda3/envs/vlc2/lib/python3.5/site-packages/tornado/ioloop.py\", line 758, in _run_callback\n    ret = callback()\n  File \"/home/gihanchanaka/anaconda3/envs/vlc2/lib/python3.5/site-packages/tornado/stack_context.py\", line 300, in null_wrapper\n    return fn(*args, **kwargs)\n  File \"/home/gihanchanaka/anaconda3/envs/vlc2/lib/python3.5/site-packages/tornado/gen.py\", line 1233, in inner\n    self.run()\n  File \"/home/gihanchanaka/anaconda3/envs/vlc2/lib/python3.5/site-packages/tornado/gen.py\", line 1147, in run\n    yielded = self.gen.send(value)\n  File \"/home/gihanchanaka/anaconda3/envs/vlc2/lib/python3.5/site-packages/ipykernel/kernelbase.py\", line 370, in dispatch_queue\n    yield self.process_one()\n  File \"/home/gihanchanaka/anaconda3/envs/vlc2/lib/python3.5/site-packages/tornado/gen.py\", line 346, in wrapper\n    runner = Runner(result, future, yielded)\n  File \"/home/gihanchanaka/anaconda3/envs/vlc2/lib/python3.5/site-packages/tornado/gen.py\", line 1080, in __init__\n    self.run()\n  File \"/home/gihanchanaka/anaconda3/envs/vlc2/lib/python3.5/site-packages/tornado/gen.py\", line 1147, in run\n    yielded = self.gen.send(value)\n  File \"/home/gihanchanaka/anaconda3/envs/vlc2/lib/python3.5/site-packages/ipykernel/kernelbase.py\", line 357, in process_one\n    yield gen.maybe_future(dispatch(*args))\n  File \"/home/gihanchanaka/anaconda3/envs/vlc2/lib/python3.5/site-packages/tornado/gen.py\", line 326, in wrapper\n    yielded = next(result)\n  File \"/home/gihanchanaka/anaconda3/envs/vlc2/lib/python3.5/site-packages/ipykernel/kernelbase.py\", line 267, in dispatch_shell\n    yield gen.maybe_future(handler(stream, idents, msg))\n  File \"/home/gihanchanaka/anaconda3/envs/vlc2/lib/python3.5/site-packages/tornado/gen.py\", line 326, in wrapper\n    yielded = next(result)\n  File \"/home/gihanchanaka/anaconda3/envs/vlc2/lib/python3.5/site-packages/ipykernel/kernelbase.py\", line 534, in execute_request\n    user_expressions, allow_stdin,\n  File \"/home/gihanchanaka/anaconda3/envs/vlc2/lib/python3.5/site-packages/tornado/gen.py\", line 326, in wrapper\n    yielded = next(result)\n  File \"/home/gihanchanaka/anaconda3/envs/vlc2/lib/python3.5/site-packages/ipykernel/ipkernel.py\", line 294, in do_execute\n    res = shell.run_cell(code, store_history=store_history, silent=silent)\n  File \"/home/gihanchanaka/anaconda3/envs/vlc2/lib/python3.5/site-packages/ipykernel/zmqshell.py\", line 536, in run_cell\n    return super(ZMQInteractiveShell, self).run_cell(*args, **kwargs)\n  File \"/home/gihanchanaka/anaconda3/envs/vlc2/lib/python3.5/site-packages/IPython/core/interactiveshell.py\", line 2843, in run_cell\n    raw_cell, store_history, silent, shell_futures)\n  File \"/home/gihanchanaka/anaconda3/envs/vlc2/lib/python3.5/site-packages/IPython/core/interactiveshell.py\", line 2869, in _run_cell\n    return runner(coro)\n  File \"/home/gihanchanaka/anaconda3/envs/vlc2/lib/python3.5/site-packages/IPython/core/async_helpers.py\", line 67, in _pseudo_sync_runner\n    coro.send(None)\n  File \"/home/gihanchanaka/anaconda3/envs/vlc2/lib/python3.5/site-packages/IPython/core/interactiveshell.py\", line 3044, in run_cell_async\n    interactivity=interactivity, compiler=compiler, result=result)\n  File \"/home/gihanchanaka/anaconda3/envs/vlc2/lib/python3.5/site-packages/IPython/core/interactiveshell.py\", line 3209, in run_ast_nodes\n    if (yield from self.run_code(code, result)):\n  File \"/home/gihanchanaka/anaconda3/envs/vlc2/lib/python3.5/site-packages/IPython/core/interactiveshell.py\", line 3291, in run_code\n    exec(code_obj, self.user_global_ns, self.user_ns)\n  File \"<ipython-input-20-fcba30c9b387>\", line 4, in <module>\n    xColour,yTrue=iterr.get_next()\n  File \"/home/gihanchanaka/anaconda3/envs/vlc2/lib/python3.5/site-packages/tensorflow/python/data/ops/iterator_ops.py\", line 421, in get_next\n    name=name)), self._output_types,\n  File \"/home/gihanchanaka/anaconda3/envs/vlc2/lib/python3.5/site-packages/tensorflow/python/ops/gen_dataset_ops.py\", line 2069, in iterator_get_next\n    output_shapes=output_shapes, name=name)\n  File \"/home/gihanchanaka/anaconda3/envs/vlc2/lib/python3.5/site-packages/tensorflow/python/framework/op_def_library.py\", line 787, in _apply_op_helper\n    op_def=op_def)\n  File \"/home/gihanchanaka/anaconda3/envs/vlc2/lib/python3.5/site-packages/tensorflow/python/util/deprecation.py\", line 488, in new_func\n    return func(*args, **kwargs)\n  File \"/home/gihanchanaka/anaconda3/envs/vlc2/lib/python3.5/site-packages/tensorflow/python/framework/ops.py\", line 3274, in create_op\n    op_def=op_def)\n  File \"/home/gihanchanaka/anaconda3/envs/vlc2/lib/python3.5/site-packages/tensorflow/python/framework/ops.py\", line 1770, in __init__\n    self._traceback = tf_stack.extract_stack()\n\nOutOfRangeError (see above for traceback): End of sequence\n\t [[node IteratorGetNext (defined at <ipython-input-20-fcba30c9b387>:4)  = IteratorGetNext[output_shapes=[[?,100,200,3], [?,25]], output_types=[DT_FLOAT, DT_FLOAT], _device=\"/job:localhost/replica:0/task:0/device:CPU:0\"](IteratorV2)]]\n",
     "output_type": "error",
     "traceback": [
      "\u001b[0;31m---------------------------------------------------------------------------\u001b[0m",
      "\u001b[0;31mOutOfRangeError\u001b[0m                           Traceback (most recent call last)",
      "\u001b[0;32m~/anaconda3/envs/vlc2/lib/python3.5/site-packages/tensorflow/python/client/session.py\u001b[0m in \u001b[0;36m_do_call\u001b[0;34m(self, fn, *args)\u001b[0m\n\u001b[1;32m   1333\u001b[0m     \u001b[0;32mtry\u001b[0m\u001b[0;34m:\u001b[0m\u001b[0;34m\u001b[0m\u001b[0m\n\u001b[0;32m-> 1334\u001b[0;31m       \u001b[0;32mreturn\u001b[0m \u001b[0mfn\u001b[0m\u001b[0;34m(\u001b[0m\u001b[0;34m*\u001b[0m\u001b[0margs\u001b[0m\u001b[0;34m)\u001b[0m\u001b[0;34m\u001b[0m\u001b[0m\n\u001b[0m\u001b[1;32m   1335\u001b[0m     \u001b[0;32mexcept\u001b[0m \u001b[0merrors\u001b[0m\u001b[0;34m.\u001b[0m\u001b[0mOpError\u001b[0m \u001b[0;32mas\u001b[0m \u001b[0me\u001b[0m\u001b[0;34m:\u001b[0m\u001b[0;34m\u001b[0m\u001b[0m\n",
      "\u001b[0;32m~/anaconda3/envs/vlc2/lib/python3.5/site-packages/tensorflow/python/client/session.py\u001b[0m in \u001b[0;36m_run_fn\u001b[0;34m(feed_dict, fetch_list, target_list, options, run_metadata)\u001b[0m\n\u001b[1;32m   1318\u001b[0m       return self._call_tf_sessionrun(\n\u001b[0;32m-> 1319\u001b[0;31m           options, feed_dict, fetch_list, target_list, run_metadata)\n\u001b[0m\u001b[1;32m   1320\u001b[0m \u001b[0;34m\u001b[0m\u001b[0m\n",
      "\u001b[0;32m~/anaconda3/envs/vlc2/lib/python3.5/site-packages/tensorflow/python/client/session.py\u001b[0m in \u001b[0;36m_call_tf_sessionrun\u001b[0;34m(self, options, feed_dict, fetch_list, target_list, run_metadata)\u001b[0m\n\u001b[1;32m   1406\u001b[0m         \u001b[0mself\u001b[0m\u001b[0;34m.\u001b[0m\u001b[0m_session\u001b[0m\u001b[0;34m,\u001b[0m \u001b[0moptions\u001b[0m\u001b[0;34m,\u001b[0m \u001b[0mfeed_dict\u001b[0m\u001b[0;34m,\u001b[0m \u001b[0mfetch_list\u001b[0m\u001b[0;34m,\u001b[0m \u001b[0mtarget_list\u001b[0m\u001b[0;34m,\u001b[0m\u001b[0;34m\u001b[0m\u001b[0m\n\u001b[0;32m-> 1407\u001b[0;31m         run_metadata)\n\u001b[0m\u001b[1;32m   1408\u001b[0m \u001b[0;34m\u001b[0m\u001b[0m\n",
      "\u001b[0;31mOutOfRangeError\u001b[0m: End of sequence\n\t [[{{node IteratorGetNext}} = IteratorGetNext[output_shapes=[[?,100,200,3], [?,25]], output_types=[DT_FLOAT, DT_FLOAT], _device=\"/job:localhost/replica:0/task:0/device:CPU:0\"](IteratorV2)]]",
      "\nDuring handling of the above exception, another exception occurred:\n",
      "\u001b[0;31mOutOfRangeError\u001b[0m                           Traceback (most recent call last)",
      "\u001b[0;32m<ipython-input-24-1c5a37d3a9cc>\u001b[0m in \u001b[0;36m<module>\u001b[0;34m\u001b[0m\n\u001b[1;32m      8\u001b[0m     \u001b[0mprintAccuracy\u001b[0m\u001b[0;34m(\u001b[0m\u001b[0miterr\u001b[0m\u001b[0;34m,\u001b[0m\u001b[0mxTrain\u001b[0m\u001b[0;34m,\u001b[0m\u001b[0myTrain\u001b[0m\u001b[0;34m,\u001b[0m\u001b[0macc\u001b[0m\u001b[0;34m,\u001b[0m\u001b[0mcst\u001b[0m\u001b[0;34m,\u001b[0m\u001b[0;34m\"Training\"\u001b[0m\u001b[0;34m)\u001b[0m\u001b[0;34m\u001b[0m\u001b[0m\n\u001b[1;32m      9\u001b[0m     \u001b[0mprintAccuracy\u001b[0m\u001b[0;34m(\u001b[0m\u001b[0miterr\u001b[0m\u001b[0;34m,\u001b[0m\u001b[0mxTest\u001b[0m\u001b[0;34m,\u001b[0m\u001b[0myTest\u001b[0m\u001b[0;34m,\u001b[0m\u001b[0macc\u001b[0m\u001b[0;34m,\u001b[0m\u001b[0mcst\u001b[0m\u001b[0;34m,\u001b[0m\u001b[0;34m\"Testing\"\u001b[0m\u001b[0;34m)\u001b[0m\u001b[0;34m\u001b[0m\u001b[0m\n\u001b[0;32m---> 10\u001b[0;31m     \u001b[0mtrain\u001b[0m\u001b[0;34m(\u001b[0m\u001b[0miterr\u001b[0m\u001b[0;34m,\u001b[0m\u001b[0mopt\u001b[0m\u001b[0;34m,\u001b[0m\u001b[0;36m1\u001b[0m\u001b[0;34m,\u001b[0m\u001b[0mxTrain\u001b[0m\u001b[0;34m,\u001b[0m\u001b[0myTrain\u001b[0m\u001b[0;34m)\u001b[0m\u001b[0;34m\u001b[0m\u001b[0m\n\u001b[0m",
      "\u001b[0;32m<ipython-input-23-9d030940a99e>\u001b[0m in \u001b[0;36mtrain\u001b[0;34m(iterr, optimizer, noIterations, X, Y)\u001b[0m\n\u001b[1;32m     11\u001b[0m         \u001b[0mbatch\u001b[0m\u001b[0;34m=\u001b[0m\u001b[0;36m0\u001b[0m\u001b[0;34m\u001b[0m\u001b[0m\n\u001b[1;32m     12\u001b[0m         \u001b[0;32mwhile\u001b[0m \u001b[0;32mTrue\u001b[0m\u001b[0;34m:\u001b[0m\u001b[0;34m\u001b[0m\u001b[0m\n\u001b[0;32m---> 13\u001b[0;31m             \u001b[0msess\u001b[0m\u001b[0;34m.\u001b[0m\u001b[0mrun\u001b[0m\u001b[0;34m(\u001b[0m\u001b[0moptimizer\u001b[0m\u001b[0;34m)\u001b[0m\u001b[0;34m\u001b[0m\u001b[0m\n\u001b[0m\u001b[1;32m     14\u001b[0m \u001b[0;31m#             try:\u001b[0m\u001b[0;34m\u001b[0m\u001b[0;34m\u001b[0m\u001b[0m\n\u001b[1;32m     15\u001b[0m \u001b[0;31m#                 sess.run(optimizer)\u001b[0m\u001b[0;34m\u001b[0m\u001b[0;34m\u001b[0m\u001b[0m\n",
      "\u001b[0;32m~/anaconda3/envs/vlc2/lib/python3.5/site-packages/tensorflow/python/client/session.py\u001b[0m in \u001b[0;36mrun\u001b[0;34m(self, fetches, feed_dict, options, run_metadata)\u001b[0m\n\u001b[1;32m    927\u001b[0m     \u001b[0;32mtry\u001b[0m\u001b[0;34m:\u001b[0m\u001b[0;34m\u001b[0m\u001b[0m\n\u001b[1;32m    928\u001b[0m       result = self._run(None, fetches, feed_dict, options_ptr,\n\u001b[0;32m--> 929\u001b[0;31m                          run_metadata_ptr)\n\u001b[0m\u001b[1;32m    930\u001b[0m       \u001b[0;32mif\u001b[0m \u001b[0mrun_metadata\u001b[0m\u001b[0;34m:\u001b[0m\u001b[0;34m\u001b[0m\u001b[0m\n\u001b[1;32m    931\u001b[0m         \u001b[0mproto_data\u001b[0m \u001b[0;34m=\u001b[0m \u001b[0mtf_session\u001b[0m\u001b[0;34m.\u001b[0m\u001b[0mTF_GetBuffer\u001b[0m\u001b[0;34m(\u001b[0m\u001b[0mrun_metadata_ptr\u001b[0m\u001b[0;34m)\u001b[0m\u001b[0;34m\u001b[0m\u001b[0m\n",
      "\u001b[0;32m~/anaconda3/envs/vlc2/lib/python3.5/site-packages/tensorflow/python/client/session.py\u001b[0m in \u001b[0;36m_run\u001b[0;34m(self, handle, fetches, feed_dict, options, run_metadata)\u001b[0m\n\u001b[1;32m   1150\u001b[0m     \u001b[0;32mif\u001b[0m \u001b[0mfinal_fetches\u001b[0m \u001b[0;32mor\u001b[0m \u001b[0mfinal_targets\u001b[0m \u001b[0;32mor\u001b[0m \u001b[0;34m(\u001b[0m\u001b[0mhandle\u001b[0m \u001b[0;32mand\u001b[0m \u001b[0mfeed_dict_tensor\u001b[0m\u001b[0;34m)\u001b[0m\u001b[0;34m:\u001b[0m\u001b[0;34m\u001b[0m\u001b[0m\n\u001b[1;32m   1151\u001b[0m       results = self._do_run(handle, final_targets, final_fetches,\n\u001b[0;32m-> 1152\u001b[0;31m                              feed_dict_tensor, options, run_metadata)\n\u001b[0m\u001b[1;32m   1153\u001b[0m     \u001b[0;32melse\u001b[0m\u001b[0;34m:\u001b[0m\u001b[0;34m\u001b[0m\u001b[0m\n\u001b[1;32m   1154\u001b[0m       \u001b[0mresults\u001b[0m \u001b[0;34m=\u001b[0m \u001b[0;34m[\u001b[0m\u001b[0;34m]\u001b[0m\u001b[0;34m\u001b[0m\u001b[0m\n",
      "\u001b[0;32m~/anaconda3/envs/vlc2/lib/python3.5/site-packages/tensorflow/python/client/session.py\u001b[0m in \u001b[0;36m_do_run\u001b[0;34m(self, handle, target_list, fetch_list, feed_dict, options, run_metadata)\u001b[0m\n\u001b[1;32m   1326\u001b[0m     \u001b[0;32mif\u001b[0m \u001b[0mhandle\u001b[0m \u001b[0;32mis\u001b[0m \u001b[0;32mNone\u001b[0m\u001b[0;34m:\u001b[0m\u001b[0;34m\u001b[0m\u001b[0m\n\u001b[1;32m   1327\u001b[0m       return self._do_call(_run_fn, feeds, fetches, targets, options,\n\u001b[0;32m-> 1328\u001b[0;31m                            run_metadata)\n\u001b[0m\u001b[1;32m   1329\u001b[0m     \u001b[0;32melse\u001b[0m\u001b[0;34m:\u001b[0m\u001b[0;34m\u001b[0m\u001b[0m\n\u001b[1;32m   1330\u001b[0m       \u001b[0;32mreturn\u001b[0m \u001b[0mself\u001b[0m\u001b[0;34m.\u001b[0m\u001b[0m_do_call\u001b[0m\u001b[0;34m(\u001b[0m\u001b[0m_prun_fn\u001b[0m\u001b[0;34m,\u001b[0m \u001b[0mhandle\u001b[0m\u001b[0;34m,\u001b[0m \u001b[0mfeeds\u001b[0m\u001b[0;34m,\u001b[0m \u001b[0mfetches\u001b[0m\u001b[0;34m)\u001b[0m\u001b[0;34m\u001b[0m\u001b[0m\n",
      "\u001b[0;32m~/anaconda3/envs/vlc2/lib/python3.5/site-packages/tensorflow/python/client/session.py\u001b[0m in \u001b[0;36m_do_call\u001b[0;34m(self, fn, *args)\u001b[0m\n\u001b[1;32m   1346\u001b[0m           \u001b[0;32mpass\u001b[0m\u001b[0;34m\u001b[0m\u001b[0m\n\u001b[1;32m   1347\u001b[0m       \u001b[0mmessage\u001b[0m \u001b[0;34m=\u001b[0m \u001b[0merror_interpolation\u001b[0m\u001b[0;34m.\u001b[0m\u001b[0minterpolate\u001b[0m\u001b[0;34m(\u001b[0m\u001b[0mmessage\u001b[0m\u001b[0;34m,\u001b[0m \u001b[0mself\u001b[0m\u001b[0;34m.\u001b[0m\u001b[0m_graph\u001b[0m\u001b[0;34m)\u001b[0m\u001b[0;34m\u001b[0m\u001b[0m\n\u001b[0;32m-> 1348\u001b[0;31m       \u001b[0;32mraise\u001b[0m \u001b[0mtype\u001b[0m\u001b[0;34m(\u001b[0m\u001b[0me\u001b[0m\u001b[0;34m)\u001b[0m\u001b[0;34m(\u001b[0m\u001b[0mnode_def\u001b[0m\u001b[0;34m,\u001b[0m \u001b[0mop\u001b[0m\u001b[0;34m,\u001b[0m \u001b[0mmessage\u001b[0m\u001b[0;34m)\u001b[0m\u001b[0;34m\u001b[0m\u001b[0m\n\u001b[0m\u001b[1;32m   1349\u001b[0m \u001b[0;34m\u001b[0m\u001b[0m\n\u001b[1;32m   1350\u001b[0m   \u001b[0;32mdef\u001b[0m \u001b[0m_extend_graph\u001b[0m\u001b[0;34m(\u001b[0m\u001b[0mself\u001b[0m\u001b[0;34m)\u001b[0m\u001b[0;34m:\u001b[0m\u001b[0;34m\u001b[0m\u001b[0m\n",
      "\u001b[0;31mOutOfRangeError\u001b[0m: End of sequence\n\t [[node IteratorGetNext (defined at <ipython-input-20-fcba30c9b387>:4)  = IteratorGetNext[output_shapes=[[?,100,200,3], [?,25]], output_types=[DT_FLOAT, DT_FLOAT], _device=\"/job:localhost/replica:0/task:0/device:CPU:0\"](IteratorV2)]]\n\nCaused by op 'IteratorGetNext', defined at:\n  File \"/home/gihanchanaka/anaconda3/envs/vlc2/lib/python3.5/runpy.py\", line 193, in _run_module_as_main\n    \"__main__\", mod_spec)\n  File \"/home/gihanchanaka/anaconda3/envs/vlc2/lib/python3.5/runpy.py\", line 85, in _run_code\n    exec(code, run_globals)\n  File \"/home/gihanchanaka/anaconda3/envs/vlc2/lib/python3.5/site-packages/ipykernel_launcher.py\", line 16, in <module>\n    app.launch_new_instance()\n  File \"/home/gihanchanaka/anaconda3/envs/vlc2/lib/python3.5/site-packages/traitlets/config/application.py\", line 658, in launch_instance\n    app.start()\n  File \"/home/gihanchanaka/anaconda3/envs/vlc2/lib/python3.5/site-packages/ipykernel/kernelapp.py\", line 505, in start\n    self.io_loop.start()\n  File \"/home/gihanchanaka/anaconda3/envs/vlc2/lib/python3.5/site-packages/tornado/platform/asyncio.py\", line 132, in start\n    self.asyncio_loop.run_forever()\n  File \"/home/gihanchanaka/anaconda3/envs/vlc2/lib/python3.5/asyncio/base_events.py\", line 421, in run_forever\n    self._run_once()\n  File \"/home/gihanchanaka/anaconda3/envs/vlc2/lib/python3.5/asyncio/base_events.py\", line 1425, in _run_once\n    handle._run()\n  File \"/home/gihanchanaka/anaconda3/envs/vlc2/lib/python3.5/asyncio/events.py\", line 127, in _run\n    self._callback(*self._args)\n  File \"/home/gihanchanaka/anaconda3/envs/vlc2/lib/python3.5/site-packages/tornado/ioloop.py\", line 758, in _run_callback\n    ret = callback()\n  File \"/home/gihanchanaka/anaconda3/envs/vlc2/lib/python3.5/site-packages/tornado/stack_context.py\", line 300, in null_wrapper\n    return fn(*args, **kwargs)\n  File \"/home/gihanchanaka/anaconda3/envs/vlc2/lib/python3.5/site-packages/tornado/gen.py\", line 1233, in inner\n    self.run()\n  File \"/home/gihanchanaka/anaconda3/envs/vlc2/lib/python3.5/site-packages/tornado/gen.py\", line 1147, in run\n    yielded = self.gen.send(value)\n  File \"/home/gihanchanaka/anaconda3/envs/vlc2/lib/python3.5/site-packages/ipykernel/kernelbase.py\", line 370, in dispatch_queue\n    yield self.process_one()\n  File \"/home/gihanchanaka/anaconda3/envs/vlc2/lib/python3.5/site-packages/tornado/gen.py\", line 346, in wrapper\n    runner = Runner(result, future, yielded)\n  File \"/home/gihanchanaka/anaconda3/envs/vlc2/lib/python3.5/site-packages/tornado/gen.py\", line 1080, in __init__\n    self.run()\n  File \"/home/gihanchanaka/anaconda3/envs/vlc2/lib/python3.5/site-packages/tornado/gen.py\", line 1147, in run\n    yielded = self.gen.send(value)\n  File \"/home/gihanchanaka/anaconda3/envs/vlc2/lib/python3.5/site-packages/ipykernel/kernelbase.py\", line 357, in process_one\n    yield gen.maybe_future(dispatch(*args))\n  File \"/home/gihanchanaka/anaconda3/envs/vlc2/lib/python3.5/site-packages/tornado/gen.py\", line 326, in wrapper\n    yielded = next(result)\n  File \"/home/gihanchanaka/anaconda3/envs/vlc2/lib/python3.5/site-packages/ipykernel/kernelbase.py\", line 267, in dispatch_shell\n    yield gen.maybe_future(handler(stream, idents, msg))\n  File \"/home/gihanchanaka/anaconda3/envs/vlc2/lib/python3.5/site-packages/tornado/gen.py\", line 326, in wrapper\n    yielded = next(result)\n  File \"/home/gihanchanaka/anaconda3/envs/vlc2/lib/python3.5/site-packages/ipykernel/kernelbase.py\", line 534, in execute_request\n    user_expressions, allow_stdin,\n  File \"/home/gihanchanaka/anaconda3/envs/vlc2/lib/python3.5/site-packages/tornado/gen.py\", line 326, in wrapper\n    yielded = next(result)\n  File \"/home/gihanchanaka/anaconda3/envs/vlc2/lib/python3.5/site-packages/ipykernel/ipkernel.py\", line 294, in do_execute\n    res = shell.run_cell(code, store_history=store_history, silent=silent)\n  File \"/home/gihanchanaka/anaconda3/envs/vlc2/lib/python3.5/site-packages/ipykernel/zmqshell.py\", line 536, in run_cell\n    return super(ZMQInteractiveShell, self).run_cell(*args, **kwargs)\n  File \"/home/gihanchanaka/anaconda3/envs/vlc2/lib/python3.5/site-packages/IPython/core/interactiveshell.py\", line 2843, in run_cell\n    raw_cell, store_history, silent, shell_futures)\n  File \"/home/gihanchanaka/anaconda3/envs/vlc2/lib/python3.5/site-packages/IPython/core/interactiveshell.py\", line 2869, in _run_cell\n    return runner(coro)\n  File \"/home/gihanchanaka/anaconda3/envs/vlc2/lib/python3.5/site-packages/IPython/core/async_helpers.py\", line 67, in _pseudo_sync_runner\n    coro.send(None)\n  File \"/home/gihanchanaka/anaconda3/envs/vlc2/lib/python3.5/site-packages/IPython/core/interactiveshell.py\", line 3044, in run_cell_async\n    interactivity=interactivity, compiler=compiler, result=result)\n  File \"/home/gihanchanaka/anaconda3/envs/vlc2/lib/python3.5/site-packages/IPython/core/interactiveshell.py\", line 3209, in run_ast_nodes\n    if (yield from self.run_code(code, result)):\n  File \"/home/gihanchanaka/anaconda3/envs/vlc2/lib/python3.5/site-packages/IPython/core/interactiveshell.py\", line 3291, in run_code\n    exec(code_obj, self.user_global_ns, self.user_ns)\n  File \"<ipython-input-20-fcba30c9b387>\", line 4, in <module>\n    xColour,yTrue=iterr.get_next()\n  File \"/home/gihanchanaka/anaconda3/envs/vlc2/lib/python3.5/site-packages/tensorflow/python/data/ops/iterator_ops.py\", line 421, in get_next\n    name=name)), self._output_types,\n  File \"/home/gihanchanaka/anaconda3/envs/vlc2/lib/python3.5/site-packages/tensorflow/python/ops/gen_dataset_ops.py\", line 2069, in iterator_get_next\n    output_shapes=output_shapes, name=name)\n  File \"/home/gihanchanaka/anaconda3/envs/vlc2/lib/python3.5/site-packages/tensorflow/python/framework/op_def_library.py\", line 787, in _apply_op_helper\n    op_def=op_def)\n  File \"/home/gihanchanaka/anaconda3/envs/vlc2/lib/python3.5/site-packages/tensorflow/python/util/deprecation.py\", line 488, in new_func\n    return func(*args, **kwargs)\n  File \"/home/gihanchanaka/anaconda3/envs/vlc2/lib/python3.5/site-packages/tensorflow/python/framework/ops.py\", line 3274, in create_op\n    op_def=op_def)\n  File \"/home/gihanchanaka/anaconda3/envs/vlc2/lib/python3.5/site-packages/tensorflow/python/framework/ops.py\", line 1770, in __init__\n    self._traceback = tf_stack.extract_stack()\n\nOutOfRangeError (see above for traceback): End of sequence\n\t [[node IteratorGetNext (defined at <ipython-input-20-fcba30c9b387>:4)  = IteratorGetNext[output_shapes=[[?,100,200,3], [?,25]], output_types=[DT_FLOAT, DT_FLOAT], _device=\"/job:localhost/replica:0/task:0/device:CPU:0\"](IteratorV2)]]\n"
     ]
    }
   ],
   "source": [
    "for i in range(EPOCHS):\n",
    "    trainAcc,trainCost=printAccuracy(iterr,xTrain,yTrain,acc,cst,\"Training\")\n",
    "    testAcc,testCost=printAccuracy(iterr,xTest,yTest,acc,cst,\"Testing\")\n",
    "    if min(trainCost,testCost) < TARGET_COST:\n",
    "        print(\"Converged!\")\n",
    "        break\n",
    "        \n",
    "    train(iterr,opt,1,xTrain,yTrain)"
   ]
  },
  {
   "cell_type": "code",
   "execution_count": null,
   "metadata": {},
   "outputs": [],
   "source": [
    "'''\n",
    "RANDOM COLOUR VIDEO\n",
    "\n",
    "'''\n",
    "FILE_NAME='./video/ran'\n",
    "FILE_NAME_VIDEO=FILE_NAME+'.avi'\n",
    "FILE_NAME_CSV=FILE_NAME+'.csv'\n",
    "\n",
    "NO_FRAMES=10000\n",
    "if PC: NO_FRAMES=100\n",
    "FRAMES_TO_SKIP=0"
   ]
  },
  {
   "cell_type": "code",
   "execution_count": null,
   "metadata": {},
   "outputs": [],
   "source": [
    "dataX=makeX(FILE_NAME_VIDEO,NO_FRAMES,FRAMES_TO_SKIP)\n",
    "dataY=makeY(FILE_NAME_CSV,NO_FRAMES,FRAMES_TO_SKIP)\n",
    "\n",
    "\n",
    "\n",
    "\n",
    "if DEBUG: print(\"X type: {}, Y type: {}.\".format(dataX.dtype,dataY.dtype))\n",
    "\n",
    "xTrain, xTest, yTrain, yTest= train_test_split(dataX, dataY, test_size=0.1)\n",
    "\n",
    "print(\"SIZES: xTrain {}, yTrain {}, xTest {}, yTest {}\".format(xTrain.shape,yTrain.shape,xTest.shape,yTest.shape))\n",
    "\n",
    "\n"
   ]
  },
  {
   "cell_type": "code",
   "execution_count": null,
   "metadata": {},
   "outputs": [],
   "source": [
    "for i in range(EPOCHS):\n",
    "    trainAcc,trainCost=printAccuracy(iterr,xTrain,yTrain,acc,cst,\"Training\")\n",
    "    testAcc,testCost=printAccuracy(iterr,xTest,yTest,acc,cst,\"Testing\")\n",
    "    if min(trainCost,testCost) < TARGET_COST:\n",
    "        print(\"Converged!\")\n",
    "        break\n",
    "        \n",
    "    train(iterr,opt,1,xTrain,yTrain)"
   ]
  },
  {
   "cell_type": "code",
   "execution_count": null,
   "metadata": {},
   "outputs": [],
   "source": [
    "'''\n",
    "MOVIE VIDEO\n",
    "\n",
    "'''\n",
    "FILE_NAME='./video/multipleVideos'\n",
    "FILE_NAME_VIDEO=FILE_NAME+'.mp4'\n",
    "FILE_NAME_CSV=FILE_NAME+'.csv'\n",
    "\n",
    "NO_FRAMES=10000\n",
    "if PC: NO_FRAMES=100\n",
    "FRAMES_TO_SKIP=0"
   ]
  },
  {
   "cell_type": "code",
   "execution_count": null,
   "metadata": {},
   "outputs": [],
   "source": [
    "dataX=makeX(FILE_NAME_VIDEO,NO_FRAMES,FRAMES_TO_SKIP)\n",
    "dataY=makeY(FILE_NAME_CSV,NO_FRAMES,FRAMES_TO_SKIP)\n",
    "\n",
    "\n",
    "\n",
    "\n",
    "if DEBUG: print(\"X type: {}, Y type: {}.\".format(dataX.dtype,dataY.dtype))\n",
    "xTrain, xTest, yTrain, yTest= train_test_split(dataX, dataY, test_size=0.1)\n",
    "print(\"SIZES: xTrain {}, yTrain {}, xTest {}, yTest {}\".format(xTrain.shape,yTrain.shape,xTest.shape,yTest.shape))\n",
    "\n",
    "\n"
   ]
  },
  {
   "cell_type": "code",
   "execution_count": null,
   "metadata": {},
   "outputs": [],
   "source": [
    "for i in range(EPOCHS):\n",
    "    trainAcc,trainCost=printAccuracy(iterr,xTrain,yTrain,acc,cst,\"Training\")\n",
    "    testAcc,testCost=printAccuracy(iterr,xTest,yTest,acc,cst,\"Testing\")\n",
    "    if min(trainCost,testCost) < TARGET_COST:\n",
    "        print(\"Converged!\")\n",
    "        break\n",
    "        \n",
    "    train(iterr,opt,1,xTrain,yTrain)"
   ]
  },
  {
   "cell_type": "code",
   "execution_count": null,
   "metadata": {},
   "outputs": [],
   "source": []
  },
  {
   "cell_type": "code",
   "execution_count": null,
   "metadata": {},
   "outputs": [],
   "source": []
  }
 ],
 "metadata": {
  "kernelspec": {
   "display_name": "Python 3",
   "language": "python",
   "name": "python3"
  },
  "language_info": {
   "codemirror_mode": {
    "name": "ipython",
    "version": 3
   },
   "file_extension": ".py",
   "mimetype": "text/x-python",
   "name": "python",
   "nbconvert_exporter": "python",
   "pygments_lexer": "ipython3",
   "version": "3.5.6"
  }
 },
 "nbformat": 4,
 "nbformat_minor": 2
}
