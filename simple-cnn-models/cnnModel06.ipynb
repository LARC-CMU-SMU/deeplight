{
 "cells": [
  {
   "cell_type": "code",
   "execution_count": 1,
   "metadata": {},
   "outputs": [
    {
     "data": {
      "text/plain": [
       "'\\ngihanchanaka@gmail.com\\n11-03-2019\\n    1)This is to learn from BW and predict random\\n    2)          learn from random and predict movie\\n'"
      ]
     },
     "execution_count": 1,
     "metadata": {},
     "output_type": "execute_result"
    }
   ],
   "source": [
    "'''\n",
    "gihanchanaka@gmail.com\n",
    "13-03-2019\n",
    "    1)This is to learn from BW and predict random\n",
    "    2)          learn from random and predict movie\n",
    "'''"
   ]
  },
  {
   "cell_type": "code",
   "execution_count": 2,
   "metadata": {},
   "outputs": [],
   "source": [
    "DEBUG=True\n",
    "PC=False\n",
    "NO_MAX_FRAMES=10000\n",
    "\n",
    "\n",
    "\n",
    "TARGET_COST=0.00001"
   ]
  },
  {
   "cell_type": "code",
   "execution_count": 3,
   "metadata": {},
   "outputs": [],
   "source": [
    "# from keras.models import Sequential\n",
    "# from keras.layers import Conv2D,Flatten,Dense,Dropout\n",
    "import tensorflow as tf\n",
    "from tensorflow.contrib.learn.python.learn.estimators._sklearn import train_test_split\n",
    "# import keras.backend as K\n",
    "\n",
    "import numpy as np\n",
    "import cv2\n",
    "import sys\n",
    "import os\n",
    "import pandas as pd\n"
   ]
  },
  {
   "cell_type": "code",
   "execution_count": 4,
   "metadata": {},
   "outputs": [],
   "source": [
    "currentTotalIterations=0\n",
    "#keras.callbacks.TensorBoard(log_dir='./logs/cnnModel04/', histogram_freq=0, batch_size=32, write_graph=True, write_grads=False, write_images=False, embeddings_freq=0, embeddings_layer_names=None, embeddings_metadata=None, embeddings_data=None,)"
   ]
  },
  {
   "cell_type": "code",
   "execution_count": 5,
   "metadata": {},
   "outputs": [],
   "source": [
    "def inputLayer(inputTensor,outputShape=None):\n",
    "    if outputShape==None:\n",
    "        outputTensor= inputTensor\n",
    "    else:\n",
    "        #x2D=tf.reshape(xFlat,[-1,imgSize,imgSize,noColorChannels])\n",
    "        inputShape=inputTensor.get_shape()\n",
    "        outputTensor=tf.reshape(inputTensor,[-1,outputShape[0],outputShape[1],1])\n",
    "    \n",
    "    if DEBUG: print(\"DEBUG: Conv layer added with output tensor shape {}\".format(outputTensor.shape))\n",
    "    return outputTensor\n",
    "\n",
    "    "
   ]
  },
  {
   "cell_type": "code",
   "execution_count": 6,
   "metadata": {},
   "outputs": [],
   "source": [
    "def convLayer2D(inputTensor,kernelShape,noKernels,poolingSize=None,activation=None):\n",
    "    filterLength=kernelShape[0]\n",
    "    filterHeight=kernelShape[1]\n",
    "    noFilters=noKernels\n",
    "    inputShape=inputTensor.get_shape()\n",
    "    if DEBUG: print(\"DEBUG: {}\".format(inputShape))\n",
    "    noChannels=int(inputShape[-1])\n",
    "\n",
    "    shape=[filterLength,filterHeight,noChannels,noFilters]\n",
    "    if DEBUG: print(\"DEBUG: Shape of weights {}\".format(shape))\n",
    "\n",
    "    weights=tf.Variable(tf.truncated_normal(shape,stddev=0.5))\n",
    "    biases=tf.Variable(tf.constant(0.05,shape=[noFilters]))\n",
    "    outputTensor=tf.nn.conv2d(input=inputTensor,filter=weights,strides=[1,1,1,1],padding='SAME')\n",
    "    #strides=[img,x,y,colourChannel]\n",
    "    outputTensor=outputTensor+biases\n",
    "    \n",
    "    if poolingSize!=None:\n",
    "        outputTensor=maxPoolingLayer(outputTensor,poolingSize)\n",
    "    if activation=='relu':\n",
    "        outputTensor=relu(outputTensor)\n",
    "    if DEBUG: print(\"DEBUG: Conv layer added with output tensor shape {}\".format(outputTensor.shape))\n",
    "    return outputTensor\n",
    "\n",
    "\n"
   ]
  },
  {
   "cell_type": "code",
   "execution_count": 7,
   "metadata": {},
   "outputs": [],
   "source": [
    "def maxPoolingLayer(inputTensor,kernelSize):\n",
    "    return tf.nn.max_pool(value=inputTensor,ksize=[1,kernelSize[0],kernelSize[1],1],strides=[1,kernelSize[0],kernelSize[1],1],padding='SAME')"
   ]
  },
  {
   "cell_type": "code",
   "execution_count": 8,
   "metadata": {},
   "outputs": [],
   "source": [
    "def relu(inputTensor):    \n",
    "    return tf.nn.relu(inputTensor)"
   ]
  },
  {
   "cell_type": "code",
   "execution_count": 9,
   "metadata": {},
   "outputs": [],
   "source": [
    "def sigmoid(inputTensor):    \n",
    "    return tf.nn.sigmoid(inputTensor)"
   ]
  },
  {
   "cell_type": "code",
   "execution_count": 10,
   "metadata": {},
   "outputs": [],
   "source": [
    "def flatten(inputTensor):\n",
    "    shape=inputTensor.get_shape()  # layer_shape == [num_images, img_height, img_width, num_channels]\n",
    "    noFeatures=int(shape[1]*shape[2]*shape[3])\n",
    "    outputTensor=tf.reshape(inputTensor,[-1,noFeatures])\n",
    "    return outputTensor"
   ]
  },
  {
   "cell_type": "code",
   "execution_count": 11,
   "metadata": {},
   "outputs": [],
   "source": [
    "def fullyConnectedLayer(inputTensor,outputSize):\n",
    "    inputShape=inputTensor.get_shape()\n",
    "    shape=[int(inputShape[1]),outputSize]\n",
    "    weights=tf.Variable(tf.truncated_normal(shape,stddev=0.5))\n",
    "    biases=tf.Variable(tf.constant(0.05,shape=[outputSize]))\n",
    "    outputTensor=tf.matmul(inputTensor,weights)+biases\n",
    "    if DEBUG: print(\"DEBUG: Added fully connected layer with output shape {}.\".format(outputTensor.shape))\n",
    "    return outputTensor"
   ]
  },
  {
   "cell_type": "code",
   "execution_count": 12,
   "metadata": {},
   "outputs": [],
   "source": [
    "def buildNetwork(outputTensor,targetTensor):\n",
    "    if DEBUG: print(\"DEBUG: Building network target tensor {} out tensor {}\".format(targetTensor.shape,outputTensor.shape))\n",
    "    sqError=tf.squared_difference(outputTensor,targetTensor)  \n",
    "    if DEBUG: print(\"DEBUG: sqError shape= {}\".format(sqError.shape))\n",
    "    cost=tf.reduce_mean(sqError,1)\n",
    "    cost=tf.reduce_mean(cost,0)\n",
    "    if DEBUG: print(\"DEBUG: cost shape= {}\".format(cost.shape))\n",
    "    optimizer=tf.train.AdamOptimizer(learning_rate=0.001).minimize(cost)\n",
    "    yPred=tf.round(outputTensor)\n",
    "    if DEBUG: print(\"DEBUG: yPred shape= {}\".format(yPred.shape))\n",
    "    correctPrediction=tf.equal(yPred,targetTensor)\n",
    "    if DEBUG: print(\"DEBUG: correctPrediction shape= {}\".format(correctPrediction.shape))\n",
    "    accuracy=tf.reduce_mean(tf.cast(correctPrediction,tf.float32))\n",
    "    if DEBUG: print(\"DEBUG: accuracy shape= {}\".format(accuracy.shape))\n",
    "    \n",
    "    \n",
    "    print(\"yPred\",yPred.shape,\"Correct pred\",correctPrediction.shape,\"Accuracy\",accuracy.shape,\"Sq error\",sqError.shape,\"Cost\",cost.shape)    \n",
    "    \n",
    "    if DEBUG: print(\"DEBUG: Completed building network\")\n",
    "    return outputTensor,optimizer,accuracy,cost\n"
   ]
  },
  {
   "cell_type": "code",
   "execution_count": 13,
   "metadata": {},
   "outputs": [],
   "source": [
    "def train(iterr,optimizer,noIterations,X,Y):\n",
    "    DISPLAY_PROGRESS_EVERY_ITER=1\n",
    "    DISPLAY_PROGRESS_EVERY_BATCH=25\n",
    "    \n",
    "    global currentTotalIterations\n",
    "    \n",
    "    \n",
    "    for it in range(currentTotalIterations,currentTotalIterations+noIterations):\n",
    "        sess.run(iterr.initializer,feed_dict={placeX:X,placeY:Y})\n",
    "        \n",
    "        batch=0\n",
    "        while True:\n",
    "            try:   \n",
    "                sess.run(optimizer)\n",
    "                batch+=1\n",
    "            except:\n",
    "                print(\"\\t {} batches trained\".format(batch))\n",
    "                break \n",
    "        \n",
    "        if (it>0)  and (it%DISPLAY_PROGRESS_EVERY_ITER==0):\n",
    "            print(\"\\t Iter {} complete\".format(it+1))\n",
    "    currentTotalIterations+=noIterations\n",
    "    print(\"\\tDEBUG: train() function completed\")"
   ]
  },
  {
   "cell_type": "code",
   "execution_count": 14,
   "metadata": {},
   "outputs": [],
   "source": [
    "def makeY(fileNameCsv,noFrames,skipFrames):\n",
    "    df=pd.read_csv(fileNameCsv, sep=',',header=None)\n",
    "    df=np.array(df).astype(np.float32)\n",
    "    \n",
    "    return df[skipFrames:noFrames,:]"
   ]
  },
  {
   "cell_type": "code",
   "execution_count": 15,
   "metadata": {},
   "outputs": [],
   "source": [
    "def makeX(fileNameVideo,noFrames,skipFrames):\n",
    "    cap = cv2.VideoCapture(fileNameVideo)\n",
    "    if (cap.isOpened()== False): \n",
    "      print(\"Error opening video stream or file\")\n",
    "    ret,frame=cap.read()\n",
    "\n",
    "\n",
    "    X=np.zeros((noFrames,FRAME_HEIGHT,FRAME_WIDTH,COLOR_CHANNELS),dtype=np.float32)\n",
    "        \n",
    "    for f in range(noFrames):\n",
    "        X[f,:,:,:]=frame\n",
    "        ret,frame=cap.read()\n",
    "    return X[skipFrames:,:,:,:]\n"
   ]
  },
  {
   "cell_type": "code",
   "execution_count": 16,
   "metadata": {},
   "outputs": [],
   "source": [
    "def maxDiff(y_true, y_pred):\n",
    "    return K.max(K.abs(y_true-y_pred))"
   ]
  },
  {
   "cell_type": "code",
   "execution_count": 17,
   "metadata": {},
   "outputs": [],
   "source": [
    "def printAccuracy(iterr,X,Y,acc,cost,trainOrTest):\n",
    "    DISPLAY_PROGRESS_EVERY_BATCH=25\n",
    "\n",
    "    sess.run(iterr.initializer,feed_dict={placeX:X,placeY:Y})\n",
    "    \n",
    "    accCountProductSum=0.0\n",
    "    costCountProductSum=0.0\n",
    "    countSum=0.0\n",
    "    batches=0\n",
    "    while True:\n",
    "        try:\n",
    "            #Please note: These two lines are not 100% correct. This is just guesswork!\n",
    "            a,c=sess.run([acc,cost])\n",
    "            accCountProductSum+=a\n",
    "            costCountProductSum+=c\n",
    "            countSum+=1\n",
    "            batches+=1\n",
    "\n",
    "        except:\n",
    "            if DEBUG: print(\"\\t {} batches of data \".format(batches))\n",
    "            if countSum==0: break\n",
    "            costVal=costCountProductSum/countSum\n",
    "            accVal=trainOrTest,accCountProductSum/countSum\n",
    "            print(\"\\t {} accuracy= {}, cost= {}\".format(trainOrTest,accVal,costVal))\n",
    "            return accVal,costVal\n",
    "            break\n"
   ]
  },
  {
   "cell_type": "code",
   "execution_count": 18,
   "metadata": {},
   "outputs": [],
   "source": [
    "FRAME_HEIGHT=100\n",
    "FRAME_WIDTH=200\n",
    "COLOR_CHANNELS=3\n",
    "CELLS_PER_FRAME=25\n",
    "\n",
    "INPUT_DIM=(FRAME_HEIGHT,FRAME_WIDTH)\n",
    "OUTPUT_DIM=CELLS_PER_FRAME\n",
    "\n",
    "\n",
    "EPOCHS=20\n",
    "BATCH_SIZE=64\n",
    "CUDA1=0\n",
    "CUDA2=1\n",
    "\n",
    "os.environ[\"CUDA_VISIBLE_DEVICES\"]=\"{},{}\".format(CUDA1,CUDA2)\n",
    "sess = tf.Session()"
   ]
  },
  {
   "cell_type": "code",
   "execution_count": 19,
   "metadata": {},
   "outputs": [],
   "source": [
    "def trainAndTestForVideo(fileName,noFrames,framesToSkip=0,videoFileFormat='.avi',testSplit=0.1):\n",
    "    print(\">>>>>>>>>>>>>>>>>>>>>>>>>>>>>>>>>>>>Starting new video file\\n>>>>>>>>>>>>>>>>>>>>>>>>>>>>>>>>>>>>{}\".format(fileName))\n",
    "    \n",
    "    FILE_NAME=fileName\n",
    "    FILE_NAME_VIDEO=FILE_NAME+videoFileFormat\n",
    "    FILE_NAME_CSV=FILE_NAME+'.csv'\n",
    "\n",
    "    NO_FRAMES=noFrames\n",
    "    if PC: NO_FRAMES=100\n",
    "    FRAMES_TO_SKIP=framesToSkip\n",
    "\n",
    "    dataX=makeX(FILE_NAME_VIDEO,NO_FRAMES,FRAMES_TO_SKIP)\n",
    "    dataY=makeY(FILE_NAME_CSV,NO_FRAMES,FRAMES_TO_SKIP)\n",
    "    \n",
    "    \n",
    "    \n",
    "    if DEBUG: print(\"X type: {}, Y type: {}.\".format(dataX.dtype,dataY.dtype))\n",
    "    xTrain, xTest, yTrain, yTest= train_test_split(dataX, dataY, test_size=testSplit)\n",
    "    print(\"SIZES: xTrain {}, yTrain {}, xTest {}, yTest {}\".format(xTrain.shape,yTrain.shape,xTest.shape,yTest.shape))\n",
    "    \n",
    "    hist={\"trainAcc\":[],\"trainCost\":[],\"testAcc\":[],\"testCost\":[]}\n",
    "    \n",
    "    \n",
    "    for i in range(EPOCHS):\n",
    "        trainAcc,trainCost=printAccuracy(iterr,xTrain,yTrain,acc,cst,\"Training\")\n",
    "        testAcc,testCost=printAccuracy(iterr,xTest,yTest,acc,cst,\"Testing\")\n",
    "        \n",
    "        hist[\"trainAcc\"].append(trainAcc)\n",
    "        hist[\"trainCost\"].append(trainCost)\n",
    "        hist[\"testAcc\"].append(testAcc)\n",
    "        hist[\"testCost\"].append(testCost)\n",
    "        \n",
    "        \n",
    "        if min(trainCost,testCost) < TARGET_COST:\n",
    "            print(\"Converged!\")\n",
    "            break\n",
    "\n",
    "        train(iterr,opt,1,xTrain,yTrain)\n",
    "    \n",
    "    return hist\n",
    "    "
   ]
  },
  {
   "cell_type": "code",
   "execution_count": 20,
   "metadata": {},
   "outputs": [],
   "source": [
    "placeX=tf.placeholder(tf.float32,shape=[None,INPUT_DIM[0],INPUT_DIM[1],COLOR_CHANNELS])\n",
    "placeY=tf.placeholder(tf.float32,shape=[None,CELLS_PER_FRAME])\n",
    "\n",
    "data=(placeX,placeY)\n",
    "dataset=tf.data.Dataset.from_tensor_slices(data)\n",
    "dataset=dataset.shuffle(buffer_size=NO_MAX_FRAMES,reshuffle_each_iteration=True)\n",
    "dataset=dataset.batch(BATCH_SIZE)\n",
    "iterr=dataset.make_initializable_iterator()\n",
    "\n",
    "\n",
    "\n"
   ]
  },
  {
   "cell_type": "code",
   "execution_count": 21,
   "metadata": {},
   "outputs": [
    {
     "name": "stdout",
     "output_type": "stream",
     "text": [
      "DEBUG: Shapes xColour (?, 100, 200, 3) yTure (?, 25) xGrey (?, 100, 200)\n",
      "DEBUG: Conv layer added with output tensor shape (?, 100, 200, 1)\n",
      "DEBUG: Added fully connected layer with output shape (?, 25).\n",
      "DEBUG: Building network target tensor (?, 25) out tensor (?, 25)\n",
      "DEBUG: sqError shape= (?, 25)\n",
      "DEBUG: cost shape= ()\n",
      "DEBUG: yPred shape= (?, 25)\n",
      "DEBUG: correctPrediction shape= (?, 25)\n",
      "DEBUG: accuracy shape= ()\n",
      "yPred (?, 25) Correct pred (?, 25) Accuracy () Sq error (?, 25) Cost ()\n",
      "DEBUG: Completed building network\n",
      "layer shapes 1:(?, 100, 200, 1) 2:(?, 20000) 3:(?, 25) \n"
     ]
    }
   ],
   "source": [
    "'''xColour=tf.placeholder(tf.float32,shape=[None,INPUT_DIM[0],INPUT_DIM[1],COLOR_CHANNELS],name='xColour')\n",
    "yTrue=tf.placeholder(tf.float32,shape=[None,CELLS_PER_FRAME],name='yTrue')'''\n",
    "\n",
    "xColour,yTrue=iterr.get_next()\n",
    "xGrey=tf.reduce_mean(xColour,axis=-1)\n",
    "xGrey=(xGrey-128.0)/256.0\n",
    "if DEBUG: print(\"DEBUG: Shapes xColour {} yTure {} xGrey {}\".format(xColour.shape,yTrue.shape,xGrey.shape))\n",
    "\n",
    "l1=inputLayer(xGrey,[INPUT_DIM[0],INPUT_DIM[1]])\n",
    "l2=flatten(l1)\n",
    "l3=fullyConnectedLayer(l2,OUTPUT_DIM)\n",
    "l4=sigmoid(l3)\n",
    "yPred,opt,acc,cst=buildNetwork(l4,yTrue)\n",
    "\n",
    "\n",
    "sess.run(tf.global_variables_initializer())\n",
    "\n",
    "\n",
    "if DEBUG: print(\"layer shapes 1:{} 2:{} 3:{} \".format(l1.shape,l2.shape,l3.shape))\n",
    "    \n"
   ]
  },
  {
   "cell_type": "code",
   "execution_count": 22,
   "metadata": {},
   "outputs": [
    {
     "name": "stdout",
     "output_type": "stream",
     "text": [
      "X type: float32, Y type: float32.\n",
      "SIZES: xTrain (9000, 100, 200, 3), yTrain (9000, 25), xTest (1000, 100, 200, 3), yTest (1000, 25)\n",
      "No batches of data , 141\n",
      "Training accuracy= ('Training', 0.5027739373927421), cost= 0.48476259568904306\n",
      "No batches of data , 16\n",
      "Testing accuracy= ('Testing', 0.5046484377235174), cost= 0.48301867581903934\n",
      "{} batches trained 141\n",
      "DEBUG: train() function completed\n",
      "No batches of data , 141\n",
      "Training accuracy= ('Training', 0.9999601054698863), cost= 2.8938960233870383e-05\n",
      "No batches of data , 16\n",
      "Testing accuracy= ('Testing', 1.0), cost= 1.3519776987728474e-06\n",
      "Converged!\n"
     ]
    }
   ],
   "source": [
    "histBw=trainAndTestForVideo('./video/bw',10000)"
   ]
  },
  {
   "cell_type": "code",
   "execution_count": 23,
   "metadata": {},
   "outputs": [
    {
     "name": "stdout",
     "output_type": "stream",
     "text": [
      "X type: float32, Y type: float32.\n",
      "SIZES: xTrain (9000, 100, 200, 3), yTrain (9000, 25), xTest (1000, 100, 200, 3), yTest (1000, 25)\n",
      "No batches of data , 141\n",
      "Training accuracy= ('Training', 0.9805895364876335), cost= 0.01591826884855404\n",
      "No batches of data , 16\n",
      "Testing accuracy= ('Testing', 0.981492180377245), cost= 0.015171589388046414\n",
      "{} batches trained 141\n",
      "Iter 2 complete\n",
      "DEBUG: train() function completed\n",
      "No batches of data , 141\n",
      "Training accuracy= ('Training', 0.9996498159482969), cost= 0.00028763928552139956\n",
      "No batches of data , 16\n",
      "Testing accuracy= ('Testing', 0.9992187432944775), cost= 0.000555841261700607\n",
      "Converged!\n"
     ]
    }
   ],
   "source": [
    "histRan=trainAndTestForVideo('./video/ran',100000)"
   ]
  },
  {
   "cell_type": "code",
   "execution_count": 24,
   "metadata": {},
   "outputs": [
    {
     "name": "stdout",
     "output_type": "stream",
     "text": [
      "X type: float32, Y type: float32.\n",
      "SIZES: xTrain (5000, 100, 200, 3), yTrain (5000, 25), xTest (5000, 100, 200, 3), yTest (5000, 25)\n",
      "No batches of data , 79\n",
      "Training accuracy= ('Training', 0.4867405057707919), cost= 0.5054985605463197\n",
      "No batches of data , 79\n",
      "Testing accuracy= ('Testing', 0.48856803888007055), cost= 0.5036997463129744\n",
      "{} batches trained 79\n",
      "Iter 3 complete\n",
      "DEBUG: train() function completed\n",
      "No batches of data , 79\n",
      "Training accuracy= ('Training', 0.5080458865135531), cost= 0.48975231564497645\n",
      "No batches of data , 79\n",
      "Testing accuracy= ('Testing', 0.5050553770004949), cost= 0.4927281073377102\n",
      "{} batches trained 79\n",
      "Iter 4 complete\n",
      "DEBUG: train() function completed\n",
      "No batches of data , 79\n",
      "Training accuracy= ('Training', 0.5153797487669354), cost= 0.4824297182922122\n",
      "No batches of data , 79\n",
      "Testing accuracy= ('Testing', 0.5110443064683601), cost= 0.4866512613960459\n",
      "{} batches trained 79\n",
      "Iter 5 complete\n",
      "DEBUG: train() function completed\n",
      "No batches of data , 79\n",
      "Training accuracy= ('Training', 0.5198655056802532), cost= 0.4781102270265169\n",
      "No batches of data , 79\n",
      "Testing accuracy= ('Testing', 0.515664558244657), cost= 0.4825172805333439\n",
      "{} batches trained 79\n",
      "Iter 6 complete\n",
      "DEBUG: train() function completed\n",
      "No batches of data , 79\n",
      "Training accuracy= ('Training', 0.5234493666057345), cost= 0.47477309839634957\n",
      "No batches of data , 79\n",
      "Testing accuracy= ('Testing', 0.5179351258881485), cost= 0.4803059172781208\n",
      "{} batches trained 79\n",
      "Iter 7 complete\n",
      "DEBUG: train() function completed\n",
      "No batches of data , 79\n",
      "Training accuracy= ('Training', 0.5244462044933175), cost= 0.473876518161991\n",
      "No batches of data , 79\n",
      "Testing accuracy= ('Testing', 0.521107593669167), cost= 0.4773216028756733\n",
      "{} batches trained 79\n",
      "Iter 8 complete\n",
      "DEBUG: train() function completed\n",
      "No batches of data , 79\n",
      "Training accuracy= ('Training', 0.529272151144245), cost= 0.46880079183397416\n",
      "No batches of data , 79\n",
      "Testing accuracy= ('Testing', 0.5246044314360316), cost= 0.4735126653804055\n",
      "{} batches trained 79\n",
      "Iter 9 complete\n",
      "DEBUG: train() function completed\n",
      "No batches of data , 79\n",
      "Training accuracy= ('Training', 0.5363212024109273), cost= 0.4618665406221076\n",
      "No batches of data , 79\n",
      "Testing accuracy= ('Testing', 0.5315822808048393), cost= 0.4663327317449111\n",
      "{} batches trained 79\n",
      "Iter 10 complete\n",
      "DEBUG: train() function completed\n",
      "No batches of data , 79\n",
      "Training accuracy= ('Training', 0.5424208890033674), cost= 0.455405032710184\n",
      "No batches of data , 79\n",
      "Testing accuracy= ('Testing', 0.5350632939157607), cost= 0.46298760175704956\n",
      "{} batches trained 79\n",
      "Iter 11 complete\n",
      "DEBUG: train() function completed\n",
      "No batches of data , 79\n",
      "Training accuracy= ('Training', 0.5399762641025495), cost= 0.45850822442694555\n",
      "No batches of data , 79\n",
      "Testing accuracy= ('Testing', 0.5315348121184337), cost= 0.46697003516969804\n",
      "{} batches trained 79\n",
      "Iter 12 complete\n",
      "DEBUG: train() function completed\n"
     ]
    }
   ],
   "source": [
    "histMultipleVideo=trainAndTestForVideo('./video/multipleVideos',10000,videoFileFormat='.mp4',testSplit=0.5)"
   ]
  },
  {
   "cell_type": "code",
   "execution_count": 25,
   "metadata": {},
   "outputs": [
    {
     "ename": "NameError",
     "evalue": "name 'histBw' is not defined",
     "output_type": "error",
     "traceback": [
      "\u001b[0;31m---------------------------------------------------------------------------\u001b[0m",
      "\u001b[0;31mNameError\u001b[0m                                 Traceback (most recent call last)",
      "\u001b[0;32m<ipython-input-25-61876b85bfed>\u001b[0m in \u001b[0;36m<module>\u001b[0;34m\u001b[0m\n\u001b[0;32m----> 1\u001b[0;31m \u001b[0mprint\u001b[0m\u001b[0;34m(\u001b[0m\u001b[0mhistBw\u001b[0m\u001b[0;34m)\u001b[0m\u001b[0;34m\u001b[0m\u001b[0m\n\u001b[0m\u001b[1;32m      2\u001b[0m \u001b[0mprint\u001b[0m\u001b[0;34m(\u001b[0m\u001b[0mhistRan\u001b[0m\u001b[0;34m)\u001b[0m\u001b[0;34m\u001b[0m\u001b[0m\n\u001b[1;32m      3\u001b[0m \u001b[0mprint\u001b[0m\u001b[0;34m(\u001b[0m\u001b[0mhistMultipleVideo\u001b[0m\u001b[0;34m)\u001b[0m\u001b[0;34m\u001b[0m\u001b[0m\n",
      "\u001b[0;31mNameError\u001b[0m: name 'histBw' is not defined"
     ]
    }
   ],
   "source": [
    "print(histBw)\n",
    "print(histRan)\n",
    "print(histMultipleVideo)"
   ]
  },
  {
   "cell_type": "code",
   "execution_count": null,
   "metadata": {},
   "outputs": [],
   "source": [
    "'''\n",
    "{'trainCost': [0.487190250597947, 6.275400916450763e-06], \n",
    "'testAcc': [('Testing', 0.49980468675494194), ('Testing', 1.0)], \n",
    "'testCost': [0.48725608363747597, 1.0347399794592357e-07], \n",
    "'trainAcc': [('Training', 0.4994202127270665), ('Training', 0.9999911345488636)]}\n",
    "\n",
    "\n",
    "{'trainCost': [0.20937026709529524, 0.061433447273910466, 0.026764632209290005, 0.015015229714889052, 0.009539862714892796, 0.006624541298241903, 0.004842561076837757, 0.003697494075448642, 0.0029006636097155354, 0.0023166576849547684, 0.0019074803687725381, 0.0015896577150676505, 0.0013644386110030584, 0.001186302326459554, 0.0010262928389373825, 0.0008936834280917434, 0.0007987172024358903, 0.0007147448452139304, 0.0006410042675296034, 0.0005829130136686566], \n",
    "'testAcc': [('Testing', 0.7569765672087669), ('Testing', 0.9179531298577785), ('Testing', 0.9588046856224537), ('Testing', 0.9735781326889992), ('Testing', 0.9810937456786633), ('Testing', 0.9852421917021275), ('Testing', 0.9873281307518482), ('Testing', 0.9882656261324883), ('Testing', 0.9894609339535236), ('Testing', 0.9904375039041042), ('Testing', 0.9911250062286854), ('Testing', 0.9915624968707561), ('Testing', 0.9914609342813492), ('Testing', 0.9920546822249889), ('Testing', 0.9925390593707561), ('Testing', 0.9926249943673611), ('Testing', 0.9929453171789646), ('Testing', 0.9930312484502792), ('Testing', 0.9930156245827675), ('Testing', 0.9933359436690807)], \n",
    "'testCost': [0.20510075148195028, 0.06685484061017632, 0.03253534168470651, 0.020639818103518337, 0.01502221537521109, 0.011874609510414302, 0.010066515096696094, 0.009086779988138005, 0.008293081540614367, 0.007626592996530235, 0.007099631344317459, 0.006742824451066554, 0.006500241201138124, 0.006219661634531803, 0.005867137078894302, 0.005834336916450411, 0.005574006267124787, 0.00550500194367487, 0.0053980302036507055, 0.0052129948599031195], \n",
    "'trainAcc': [('Training', 0.7515354613040356), ('Training', 0.9251923764005621), ('Training', 0.9677101048171943), ('Training', 0.9822925510981404), ('Training', 0.9889725218427942), ('Training', 0.9924822703320929), ('Training', 0.9946498211393965), ('Training', 0.9959246419000287), ('Training', 0.9968235797070443), ('Training', 0.9975150671411068), ('Training', 0.9979884721708636), ('Training', 0.9983262360518705), ('Training', 0.9985983929735549), ('Training', 0.9987508764503695), ('Training', 0.9989361602363857), ('Training', 0.9990868716375202), ('Training', 0.9991790673411485), ('Training', 0.9992748122688726), ('Training', 0.999352827985236), ('Training', 0.9994015862755742)]}\n",
    "\n",
    "\n",
    "{'trainCost': [0.5029900013645993, 0.4776768835285042, 0.4591610099695906, 0.44652620636964147, 0.42667750467227983, 0.4050721575187731, 0.38265376641780513, 0.3606759505935862, 0.3475723809833768, 0.32737633812276623, 0.3119316508498373, 0.2990805570837818, 0.2864646523059169, 0.2791970398607133, 0.2705821962673453, 0.26238762823086753, 0.2565659776895861, 0.24874630155442637, 0.2458962330335303, 0.2412038983046254], \n",
    "'testAcc': [('Testing', 0.4862816446944128), ('Testing', 0.5078481017034265), ('Testing', 0.5216139245636856), ('Testing', 0.5325632868688318), ('Testing', 0.5485759513287605), ('Testing', 0.5647943042501619), ('Testing', 0.5853639260123048), ('Testing', 0.6034256348127052), ('Testing', 0.6154746858379508), ('Testing', 0.6347151873986933), ('Testing', 0.6476028493688076), ('Testing', 0.6608702540397644), ('Testing', 0.67348101320146), ('Testing', 0.680324366575555), ('Testing', 0.6890348075311395), ('Testing', 0.6955775286577925), ('Testing', 0.70223892565015), ('Testing', 0.7094066444831558), ('Testing', 0.7109651889982103), ('Testing', 0.7164477856853341)], \n",
    "'testCost': [0.5040931848785545, 0.4840255138240283, 0.4693682189983658, 0.4575264374666576, 0.44012309667430344, 0.4228188406817521, 0.4004590971560418, 0.382104583556139, 0.3697694204276121, 0.35061238234556175, 0.3376556023766723, 0.3246032493778422, 0.3124394220641897, 0.3059287022186231, 0.2977016475758975, 0.2912550908100756, 0.2847993453092213, 0.2783400008950052, 0.2768173849658121, 0.2716038244057305], \n",
    "'trainAcc': [('Training', 0.48648733919179893), ('Training', 0.5144857590711569), ('Training', 0.532064874715443), ('Training', 0.5438528490971916), ('Training', 0.5622626588314394), ('Training', 0.5832911382747602), ('Training', 0.6044620275497437), ('Training', 0.626368674296367), ('Training', 0.6394382926482188), ('Training', 0.6598180434371852), ('Training', 0.6762341781507565), ('Training', 0.6898813262770448), ('Training', 0.7035522151596939), ('Training', 0.7105221499370623), ('Training', 0.7195411384860172), ('Training', 0.7288370238074774), ('Training', 0.7352531650398351), ('Training', 0.7440980997266649), ('Training', 0.7474762646457817), ('Training', 0.7525158207627791)]}\n",
    "'''\n"
   ]
  }
 ],
 "metadata": {
  "kernelspec": {
   "display_name": "Python 3",
   "language": "python",
   "name": "python3"
  },
  "language_info": {
   "codemirror_mode": {
    "name": "ipython",
    "version": 3
   },
   "file_extension": ".py",
   "mimetype": "text/x-python",
   "name": "python",
   "nbconvert_exporter": "python",
   "pygments_lexer": "ipython3",
   "version": "3.5.6"
  }
 },
 "nbformat": 4,
 "nbformat_minor": 2
}
