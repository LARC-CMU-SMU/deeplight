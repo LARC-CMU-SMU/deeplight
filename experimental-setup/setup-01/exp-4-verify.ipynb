{
 "cells": [
  {
   "cell_type": "code",
   "execution_count": null,
   "metadata": {},
   "outputs": [],
   "source": [
    "import numpy as np\n",
    "import cv2\n",
    "import sys\n",
    "\n",
    "data=np.load('../video/butterfly.npz')\n",
    "X=data['X']\n",
    "Y=data['Y']\n",
    "\n",
    "\n",
    "print(\"DEBUG: \",\"X\",X.shape,\"Y\",Y.shape)\n",
    "\n",
    "N=int(sys.argv[1])\n",
    "\n",
    "print(Y[N])\n",
    "cv2.imshow(\"Image\",X[N])\n",
    "cv2.waitKey(100000000)\n",
    "\n",
    "\n",
    "\n",
    "for i in range(X.shape[0]):\n",
    "    #idx=int(input())\n",
    "    #cv2.ion()\n",
    "    cv2.imshow(\"Image\",X[i])\n",
    "    cv2.waitKey(10)\n",
    "    print(i,Y[i])\n",
    "    \n",
    "cv2.destroyAllWindows()\n",
    "\n",
    "    \n"
   ]
  },
  {
   "cell_type": "code",
   "execution_count": null,
   "metadata": {},
   "outputs": [],
   "source": []
  },
  {
   "cell_type": "code",
   "execution_count": null,
   "metadata": {},
   "outputs": [],
   "source": []
  }
 ],
 "metadata": {
  "kernelspec": {
   "display_name": "Python 3",
   "language": "python",
   "name": "python3"
  },
  "language_info": {
   "codemirror_mode": {
    "name": "ipython",
    "version": 3
   },
   "file_extension": ".py",
   "mimetype": "text/x-python",
   "name": "python",
   "nbconvert_exporter": "python",
   "pygments_lexer": "ipython3",
   "version": "3.5.6"
  }
 },
 "nbformat": 4,
 "nbformat_minor": 2
}
