{
 "cells": [
  {
   "cell_type": "code",
   "execution_count": 16,
   "metadata": {},
   "outputs": [
    {
     "name": "stdout",
     "output_type": "stream",
     "text": [
      "Up to file 0. X=(5000, 299, 299, 3) Y=(5000, 400).\n",
      "Up to file 1. X=(10000, 299, 299, 3) Y=(10000, 400).\n",
      "Up to file 2. X=(15000, 299, 299, 3) Y=(15000, 400).\n",
      "Up to file 3. X=(20000, 299, 299, 3) Y=(20000, 400).\n",
      "Up to file 4. X=(25000, 299, 299, 3) Y=(25000, 400).\n",
      "Finish saving file\n"
     ]
    }
   ],
   "source": [
    "PREFIX='../'\n",
    "FILES=['butterfly','travel','mario','nature','drone']\n",
    "\n",
    "OUTPUT_FILE='videos-ideal-20x20'\n",
    "EXTENSION='-ideal-20x20.npz'\n",
    "\n",
    "SHUFFLE=False\n",
    "CAP_SIZE=True\n",
    "MAX_FRAMES=5000\n",
    "\n",
    "import numpy as np\n",
    "\n",
    "\n",
    "\n",
    "fileNames=[]\n",
    "\n",
    "for f in range(len(FILES)):\n",
    "    fileNames.append(PREFIX+FILES[f]+EXTENSION)\n",
    "\n",
    "data=np.load(fileNames[0])\n",
    "X=data['X']\n",
    "Y=data['Y']\n",
    "if CAP_SIZE:\n",
    "    X=X[:MAX_FRAMES]\n",
    "    Y=Y[:MAX_FRAMES]\n",
    "\n",
    "print(\"Up to file {}. X={} Y={}.\".format(0,X.shape,Y.shape))\n",
    "\n",
    "for f in range(1,len(fileNames)):\n",
    "    data=np.load(fileNames[f])\n",
    "    \n",
    "    if CAP_SIZE:\n",
    "        X=np.concatenate((X,(data['X'])[:MAX_FRAMES]))\n",
    "        Y=np.concatenate((Y,(data['Y'])[:MAX_FRAMES]))\n",
    "    else:\n",
    "        X=np.concatenate((X,data['X']))\n",
    "        Y=np.concatenate((Y,data['Y']))\n",
    "    \n",
    "    print(\"Up to file {}. X={} Y={}.\".format(f,X.shape,Y.shape))\n",
    "\n",
    "if SHUFFLE:\n",
    "    p = np.random.permutation(len(X))\n",
    "    X=X[p]\n",
    "    Y=Y[p]\n",
    "    print(\"Shuffled\")\n",
    "    np.savez(\"{}{}-shuffled.npz\".format(PREFIX,OUTPUT_FILE),X=X,Y=Y)\n",
    "else:\n",
    "    np.savez(\"{}{}.npz\".format(PREFIX,OUTPUT_FILE),X=X,Y=Y)\n",
    "\n",
    "print(\"Finish saving file\")\n",
    "\n"
   ]
  },
  {
   "cell_type": "code",
   "execution_count": null,
   "metadata": {},
   "outputs": [],
   "source": []
  }
 ],
 "metadata": {
  "kernelspec": {
   "display_name": "Python 3",
   "language": "python",
   "name": "python3"
  },
  "language_info": {
   "codemirror_mode": {
    "name": "ipython",
    "version": 3
   },
   "file_extension": ".py",
   "mimetype": "text/x-python",
   "name": "python",
   "nbconvert_exporter": "python",
   "pygments_lexer": "ipython3",
   "version": "3.5.6"
  }
 },
 "nbformat": 4,
 "nbformat_minor": 2
}
