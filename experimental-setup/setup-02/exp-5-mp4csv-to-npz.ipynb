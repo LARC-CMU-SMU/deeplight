{
 "cells": [
  {
   "cell_type": "code",
   "execution_count": null,
   "metadata": {},
   "outputs": [],
   "source": [
    "import cv2\n",
    "import numpy as np\n",
    "import sys\n",
    "\n",
    "FILE_NAME='../tvstatic'\n",
    "GRID_X=10\n",
    "GRID_Y=10\n",
    "\n",
    "if len(sys.argv)>3:\n",
    "    FILE_NAME=(sys.argv[1].split(\"-\"))[0]\n",
    "    GRID_X=int(sys.argv[2])\n",
    "    GRID_Y=int(sys.argv[3])\n",
    "\n",
    "CELLS_PER_FRAME=GRID_X*GRID_Y\n",
    "\n",
    "\n",
    "\n",
    "def binArray(x):\n",
    "    ans=np.zeros((CELLS_PER_FRAME),dtype=np.uint8)\n",
    "    \n",
    "    for i in range(CELLS_PER_FRAME):\n",
    "        ans[i]=x&1\n",
    "        x=x>>1\n",
    "    return ans\n",
    "\n",
    "\n",
    "\n",
    "video = cv2.VideoCapture('{}-code-{}x{}.mp4'.format(FILE_NAME,GRID_X,GRID_Y))\n",
    "pattern = open('{}-code-{}x{}.csv'.format(FILE_NAME,GRID_X,GRID_Y))\n",
    "npzFile = '{}-ideal-{}x{}.npz'.format(FILE_NAME,GRID_X,GRID_Y)\n",
    "\n",
    "XX=[]\n",
    "YY=[]\n",
    "\n",
    "while video.isOpened():\n",
    "    ret, frame = video.read()\n",
    "    pat = pattern.readline()\n",
    "    if ret:\n",
    "        YY.append(binArray(int(pat)))\n",
    "        if frame.shape[0]!=299 and frame.shape[1]!=299:\n",
    "            frame=cv2.resize(frame,(299,299),interpolation = cv2.INTER_LINEAR)\n",
    "        XX.append(frame)\n",
    "    else:\n",
    "        break\n",
    "    \n",
    "    if len(YY)==8000:\n",
    "        break\n",
    "        \n",
    "        \n",
    "video.release()\n",
    "pattern.close()\n",
    "\n",
    "XX=np.array(XX)\n",
    "YY=np.array(YY)\n",
    "np.savez(npzFile, X=XX, Y=YY)\n",
    "print(\"X shape\",XX.shape,\"Y shape\",YY.shape)"
   ]
  },
  {
   "cell_type": "code",
   "execution_count": null,
   "metadata": {},
   "outputs": [],
   "source": []
  }
 ],
 "metadata": {
  "kernelspec": {
   "display_name": "Python 3",
   "language": "python",
   "name": "python3"
  },
  "language_info": {
   "codemirror_mode": {
    "name": "ipython",
    "version": 3
   },
   "file_extension": ".py",
   "mimetype": "text/x-python",
   "name": "python",
   "nbconvert_exporter": "python",
   "pygments_lexer": "ipython3",
   "version": "3.5.6"
  }
 },
 "nbformat": 4,
 "nbformat_minor": 2
}
