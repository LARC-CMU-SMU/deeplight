{
 "cells": [
  {
   "cell_type": "code",
   "execution_count": 2,
   "metadata": {},
   "outputs": [],
   "source": [
    "from codec import *\n",
    "import numpy as np\n",
    "\n",
    "sym_bits = 5 #Number of bit per symbol\n",
    "block_len = 20 #Number of symbols in a block (we transmit data in a block)\n",
    "ratio = 0.8 #Ratio of data symbol in a block. The rest are error correction code\n",
    "msg_len = int(ratio*block_len) #Number of data symbols\n",
    "codec = Codec(sym_bits=sym_bits, block_len=block_len, code_ratio=ratio)"
   ]
  },
  {
   "cell_type": "code",
   "execution_count": null,
   "metadata": {},
   "outputs": [],
   "source": [
    "#Generate test data\n",
    "msg = np.random.randint(0,2,80, dtype=np.uint8)\n",
    "#Encode test data\n",
    "enc = codec.encode(msg)\n",
    "\n",
    "print(enc)\n",
    "# #Test random error\n",
    "# error_ratio = 0.05\n",
    "# error_indexes = np.random.randint(0, len(enc), int(error_ratio*len(enc)))\n",
    "# for idx in error_indexes:\n",
    "#     if enc[idx] == 0:\n",
    "#         enc[idx] = 1\n",
    "#     else:\n",
    "#         enc[idx] = 0\n",
    "# # Test burst error\n",
    "offset = 5\n",
    "for i in range(9):\n",
    "    if enc[offset+i] == 0: \n",
    "        enc[offset+i] = 1\n",
    "    else:\n",
    "        enc[offset+i] = 0\n",
    "print(enc)\n",
    "\n",
    "#Decode the noisy data\n",
    "try:\n",
    "    dec = codec.decode(enc)\n",
    "except Exception as error:\n",
    "    print(error)\n",
    "print(\"\")\n",
    "print(msg)\n",
    "print(dec)\n",
    "\n",
    "#Compare original data and decoded data\n",
    "for i in range(len(msg)):\n",
    "    if msg[i] != dec[i]:\n",
    "        print(\"Different\")\n",
    "        break"
   ]
  }
 ],
 "metadata": {
  "kernelspec": {
   "display_name": "Python 3",
   "language": "python",
   "name": "python3"
  },
  "language_info": {
   "codemirror_mode": {
    "name": "ipython",
    "version": 3
   },
   "file_extension": ".py",
   "mimetype": "text/x-python",
   "name": "python",
   "nbconvert_exporter": "python",
   "pygments_lexer": "ipython3",
   "version": "3.5.2"
  }
 },
 "nbformat": 4,
 "nbformat_minor": 2
}
